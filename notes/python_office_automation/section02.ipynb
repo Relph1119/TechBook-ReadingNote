{
 "cells": [
  {
   "cell_type": "markdown",
   "metadata": {
    "collapsed": true
   },
   "source": [
    "# Section02 “运算”模块：扩展常用的统计、搜索和排序功能"
   ]
  },
  {
   "cell_type": "markdown",
   "metadata": {},
   "source": [
    "## 1 函数与字典：如何实现多次替换"
   ]
  },
  {
   "cell_type": "markdown",
   "metadata": {},
   "source": [
    "### 1.1 使用Python实现“替换”功能"
   ]
  },
  {
   "cell_type": "markdown",
   "metadata": {},
   "source": [
    "使用`replace`函数进行替换"
   ]
  },
  {
   "cell_type": "code",
   "execution_count": 1,
   "metadata": {},
   "outputs": [
    {
     "data": {
      "text/plain": [
       "'aaa恭喜发财bbb'"
      ]
     },
     "execution_count": 1,
     "metadata": {},
     "output_type": "execute_result"
    }
   ],
   "source": [
    "string1 = \"aaa新年快乐bbb\"\n",
    "string2 = string1.replace(\"新年快乐\", \"恭喜发财\")\n",
    "string2"
   ]
  },
  {
   "cell_type": "code",
   "execution_count": 2,
   "metadata": {},
   "outputs": [
    {
     "data": {
      "text/plain": [
       "'aaa恭喜发财bbb恭喜发财ccc'"
      ]
     },
     "execution_count": 2,
     "metadata": {},
     "output_type": "execute_result"
    }
   ],
   "source": [
    "string3 = \"aaa新年快乐bbb新年快乐ccc\"\n",
    "string4 = string3.replace(\"新年快乐\", \"恭喜发财\", 2)\n",
    "string4"
   ]
  },
  {
   "cell_type": "markdown",
   "metadata": {},
   "source": [
    "### 1.2 实现批量替换"
   ]
  },
  {
   "cell_type": "markdown",
   "metadata": {},
   "source": [
    "使用字典+自定义函数替代`replace()`函数实现批量“一对一”替换"
   ]
  },
  {
   "cell_type": "code",
   "execution_count": 3,
   "metadata": {},
   "outputs": [],
   "source": [
    "city_dir = { \"GUANGDONG\":\"广东省\", \n",
    "            \"HEBEI\":\"河北省\", \n",
    "            \"HUNAN\":\"湖南省\", \n",
    "            \"HANGZHOU\":\"杭州市\" }"
   ]
  },
  {
   "cell_type": "code",
   "execution_count": 4,
   "metadata": {},
   "outputs": [],
   "source": [
    "def replace_city(city_name):\n",
    "    return city_dir[city_name]\n",
    "\n",
    "# 通过字典映射关系实现批量替换\n",
    "def replace_multi(my_citys, replaced_string):\n",
    "    for pinyin_city in my_citys:\n",
    "        replaced_string = replaced_string.replace(pinyin_city, replace_city(pinyin_city))\n",
    "    \n",
    "    return replaced_string"
   ]
  },
  {
   "cell_type": "code",
   "execution_count": 5,
   "metadata": {
    "scrolled": true
   },
   "outputs": [
    {
     "name": "stdout",
     "output_type": "stream",
     "text": [
      "广东省，简称“粤”，中华人民共和国省级行政区，省会广州。\n",
      "因古地名广信之东，故名“广东省”。位于南岭以南，南海之滨，\n",
      "与香港、澳门、广西、湖南省、江西及福建接壤，与海南隔海相望。\n"
     ]
    }
   ],
   "source": [
    "# 需要替换的城市\n",
    "citys = (\"GUANGDONG\", \"HUNAN\")\n",
    "\n",
    "# 需要替换的字符串\n",
    "string1 = \"\"\"GUANGDONG，简称“粤”，中华人民共和国省级行政区，省会广州。\n",
    "因古地名广信之东，故名“GUANGDONG”。位于南岭以南，南海之滨，\n",
    "与香港、澳门、广西、HUNAN、江西及福建接壤，与海南隔海相望。\"\"\"\n",
    "\n",
    "string2 = replace_multi(citys, string1)\n",
    "print(string2)"
   ]
  },
  {
   "cell_type": "markdown",
   "metadata": {},
   "source": [
    "使用逻辑判断+自定义函数替代`replace()`函数实现“多对一”替换"
   ]
  },
  {
   "cell_type": "code",
   "execution_count": 6,
   "metadata": {},
   "outputs": [
    {
     "name": "stdout",
     "output_type": "stream",
     "text": [
      "老年\n"
     ]
    }
   ],
   "source": [
    "def age_replace(age):\n",
    "    if 0 < age <= 6:\n",
    "        return \"少年\"    \n",
    "    elif 7 < age <= 18:\n",
    "        return \"青年\"\n",
    "    elif 19 < age <= 65:\n",
    "        return \"中年\"\n",
    "    else:\n",
    "        return \"老年\"\n",
    "\n",
    "print(age_replace(80))"
   ]
  },
  {
   "cell_type": "markdown",
   "metadata": {},
   "source": [
    "## 2 图像处理库：如何实现长图拼接？"
   ]
  },
  {
   "cell_type": "markdown",
   "metadata": {},
   "source": [
    "### 2.1 调用外部命令\n",
    "\n",
    "- 使用方式：利用`subprocess`模块实现\n",
    "- 实现机制：使用`run()`函数，通过指定一个可以运行程序的路径，根据该路径运行可执行文件"
   ]
  },
  {
   "cell_type": "code",
   "execution_count": 7,
   "metadata": {},
   "outputs": [
    {
     "name": "stdout",
     "output_type": "stream",
     "text": [
      "CompletedProcess(args=['dir', '.'], returncode=0)\n"
     ]
    }
   ],
   "source": [
    "from subprocess import run, Popen, PIPE\n",
    "\n",
    "cmd = [\"dir\", \".\"]\n",
    "return_code = run(cmd, shell=True)\n",
    "\n",
    "print(return_code)"
   ]
  },
  {
   "cell_type": "code",
   "execution_count": 8,
   "metadata": {
    "scrolled": true
   },
   "outputs": [
    {
     "name": "stdout",
     "output_type": "stream",
     "text": [
      " 驱动器 E 中的卷是 Work\n",
      " 卷的序列号是 A0E0-05F2\n",
      "\n",
      " E:\\LearningDisk\\Learning_Projects\\MyOtherProject\\TechBooks-ReadingNote\\notes\\python_office_automation 的目录\n",
      "\n",
      "2021/12/08  21:23    <DIR>          .\n",
      "2021/12/08  21:23    <DIR>          ..\n",
      "2021/12/08  08:46    <DIR>          .ipynb_checkpoints\n",
      "2021/12/08  18:32    <DIR>          data\n",
      "2021/12/07  20:04            19,322 section01.ipynb\n",
      "2021/12/08  21:23            41,336 section02.ipynb\n",
      "2021/12/08  21:08    <DIR>          __pycache__\n",
      "               2 个文件         60,658 字节\n",
      "               5 个目录 167,966,035,968 可用字节\n",
      "\n"
     ]
    }
   ],
   "source": [
    "# 使用Popen获取程序运行结果\n",
    "with Popen(cmd, shell=True, stdout=PIPE, stderr=PIPE, encoding='gbk') as fs:\n",
    "    # 如果程序在timeout秒后未执行完成，会抛出TimeoutExpired异常\n",
    "    fs.wait(2)\n",
    "    # 从标准输出中读取数据，直到文件结束\n",
    "    files = fs.communicate()[0]\n",
    "    \n",
    "print(files)"
   ]
  },
  {
   "cell_type": "markdown",
   "metadata": {},
   "source": [
    "### 2.2 长图拼接\n",
    "\n",
    "- 处理方法：通过外部命令调用，使用图像处理软件进行长图拼接\n",
    "- 使用软件：[安装ImageMagick](https://blog.csdn.net/qq_37674858/article/details/80361860)，详见README（用于长图拼接）"
   ]
  },
  {
   "cell_type": "code",
   "execution_count": 9,
   "metadata": {},
   "outputs": [
    {
     "data": {
      "text/plain": [
       "CompletedProcess(args=['magick', 'convert', '-append', WindowsPath('data/ch04/01.jpg'), WindowsPath('data/ch04/02.jpg'), 'data/ch04/result.jpg'], returncode=0)"
      ]
     },
     "execution_count": 9,
     "metadata": {},
     "output_type": "execute_result"
    }
   ],
   "source": [
    "from pathlib import Path, PurePath \n",
    "from subprocess import run\n",
    "\n",
    "jpg_path = 'data/ch04'\n",
    "result_path = 'data/ch04/result.jpg'\n",
    "p = Path(jpg_path)\n",
    "\n",
    "# 使用命令\n",
    "cmd = ['magick', 'convert', '-append']\n",
    "\n",
    "# 增加参数\n",
    "for x in p.iterdir(): \n",
    "    if PurePath(x).match('*.jpg'):\n",
    "        cmd.append(x)\n",
    "    \n",
    "# 增加拼接结果\n",
    "cmd.append(result_path)\n",
    "\n",
    "run(cmd, shell=True)"
   ]
  },
  {
   "cell_type": "markdown",
   "metadata": {},
   "source": [
    "### 2.3 视频的拆分与合并\n",
    "\n",
    "- 处理方法：通过外部命令调用，使用视频处理软件进行拆分与合并\n",
    "- 使用软件：`ffmpeg`命令\n",
    "- 使用场景：  \n",
    "&emsp;&emsp;将视频文件切分成多个`ts`格式文件，并引入索引文件`m3u8`格式，该文件是在`udf-8`编码格式下的`m3u`视频索引，播放器通过这个索引文件找到视频下所有的分段，再依次播放视频"
   ]
  },
  {
   "cell_type": "markdown",
   "metadata": {},
   "source": [
    "## 3 jieba分词：如何基于感情色彩进行单词数量统计？"
   ]
  },
  {
   "cell_type": "markdown",
   "metadata": {},
   "source": [
    "### 3.1 分词\n",
    "\n",
    "- 语义分词：对中文句子按照语义进行切割的操作\n",
    "- 扩展库：`jieba`库\n",
    "- 语义分割技术：从统计学角度、从词库的角度基于TF-IDF算法实现分词\n",
    "- jieba分词技术：\n",
    "  1. 基于词库（也称作字典文件）对文章中所有可能出现的词进行匹配\n",
    "  2. 匹配之后，会生成句子中的汉字所有可能形成的词\n",
    "  3. 将这些词构成有向无环图，并采用动态规划算法查找最大概率路径，尽可能不会将一个词拆分成单个汉字\n",
    "  4. 从字典中，找出基于词频最大切分组合，把这些分词的组合从句子中找出来，形成一个个的词"
   ]
  },
  {
   "cell_type": "code",
   "execution_count": 10,
   "metadata": {},
   "outputs": [
    {
     "name": "stderr",
     "output_type": "stream",
     "text": [
      "Building prefix dict from the default dictionary ...\n",
      "Loading model from cache C:\\Users\\hurui\\AppData\\Local\\Temp\\jieba.cache\n",
      "Loading model cost 0.423 seconds.\n",
      "Prefix dict has been built successfully.\n"
     ]
    },
    {
     "name": "stdout",
     "output_type": "stream",
     "text": [
      "速度/快/，/包装/好/，/看着/特别/好/，/喝/着/肯定/不错/！/价廉物美\n"
     ]
    }
   ],
   "source": [
    "import jieba\n",
    "\n",
    "words1=\"速度快，包装好，看着特别好，喝着肯定不错！价廉物美\"\n",
    "\n",
    "words2 = jieba.cut(words1)\n",
    "print(\"/\".join(words2))"
   ]
  },
  {
   "cell_type": "markdown",
   "metadata": {},
   "source": [
    "### 3.2 优化分词结果\n",
    "\n",
    "- 主要优化方向：移除标点符号，删除和情感无关的助词、名词等\n",
    "- 移除标点符号：删除停止词、根据词性提取关键词"
   ]
  },
  {
   "cell_type": "code",
   "execution_count": 11,
   "metadata": {},
   "outputs": [
    {
     "name": "stdout",
     "output_type": "stream",
     "text": [
      "['速度', '快', '包装', '好', '看着', '特别', '好', '喝', '着', '肯定', '不错', '价廉物美']\n"
     ]
    }
   ],
   "source": [
    "words2 = jieba.cut(words1)\n",
    "words3 = list(words2)\n",
    "# 停止词\n",
    "stop_words = [\"，\", \"！\"]\n",
    "words4 = [x for x in words3 if x not in stop_words]\n",
    "print(words4)"
   ]
  },
  {
   "cell_type": "code",
   "execution_count": 12,
   "metadata": {},
   "outputs": [
    {
     "name": "stdout",
     "output_type": "stream",
     "text": [
      "[('快', 'a'), ('包装', 'v'), ('好', 'a'), ('看着', 'v'), ('特别', 'd'), ('好', 'a'), ('肯定', 'v'), ('不错', 'a'), ('价廉物美', 'l')]\n"
     ]
    }
   ],
   "source": [
    "# 基于词性移除标点符号\n",
    "import jieba.posseg as psg\n",
    "\n",
    "words5 = [(w.word, w.flag) for w in psg.cut(words1)]\n",
    "\n",
    "# 保留形容词、副词、动词\n",
    "saved = ['a', 'v', 'd', 'l']\n",
    "words5 = [x for x in words5 if x[1] in saved]\n",
    "print(words5)"
   ]
  },
  {
   "cell_type": "markdown",
   "metadata": {},
   "source": [
    "### 3.3 语义情感分析\n",
    "\n",
    "- `snownlp`库：用于统计词的正向、负向情感倾向\n",
    "- 情感倾向：通过`snownlp`的`Bayes`模型训练方法，读取模块自带的正负样本，使用`Bayes`模型中的`classify()`函数进行分类，得到`sentiments`属性的值。\n",
    "- 情感倾向是正向的，`sentiments`结果会接近1，如果是负向的，结果接近0"
   ]
  },
  {
   "cell_type": "code",
   "execution_count": 13,
   "metadata": {
    "scrolled": true
   },
   "outputs": [
    {
     "name": "stdout",
     "output_type": "stream",
     "text": [
      "0.99583439264303\n"
     ]
    }
   ],
   "source": [
    "from snownlp import SnowNLP\n",
    "\n",
    "words6 = [x[0] for x in words5]\n",
    "s1 = SnowNLP(\" \".join(words3))\n",
    "print(s1.sentiments)"
   ]
  },
  {
   "cell_type": "markdown",
   "metadata": {},
   "source": [
    "## 4 快速读写文件：如何实现跨文件的字数统计？"
   ]
  },
  {
   "cell_type": "markdown",
   "metadata": {},
   "source": [
    "### 4.1 对单个文件进行字数统计\n",
    "\n",
    "- 操作步骤：\n",
    "  1. 读取要统计的文件\n",
    "  2. 对字数数量进行统计，并用变量保存\n",
    "  3. 将结果写入统计字数专用文件中"
   ]
  },
  {
   "cell_type": "code",
   "execution_count": 14,
   "metadata": {},
   "outputs": [
    {
     "name": "stdout",
     "output_type": "stream",
     "text": [
      "15\n"
     ]
    }
   ],
   "source": [
    "import pathlib\n",
    "\n",
    "file_path = 'data/ch07/e.txt'\n",
    "\n",
    "with open(file_path, encoding='utf-8') as f:\n",
    "    content = f.read()\n",
    "    words = content.rstrip()\n",
    "    number = len(words)\n",
    "    print(number)"
   ]
  },
  {
   "cell_type": "markdown",
   "metadata": {},
   "source": [
    "### 4.2 对多个文件进行字数统计"
   ]
  },
  {
   "cell_type": "code",
   "execution_count": 15,
   "metadata": {},
   "outputs": [
    {
     "name": "stdout",
     "output_type": "stream",
     "text": [
      "a.txt 627\n",
      "b.txt 647\n",
      "e.txt 15\n",
      "Total words: 1289\n"
     ]
    }
   ],
   "source": [
    "src_path = 'data/ch07'\n",
    "count = 0\n",
    "\n",
    "p = Path(src_path)\n",
    "files = [x for x in p.iterdir() if PurePath(x).match('*.txt')]\n",
    "for file in files:\n",
    "    with open(file, encoding='utf-8') as f:\n",
    "        content = f.read()\n",
    "        words = content.rstrip()\n",
    "        number = len(words)\n",
    "        print(file.name, number)\n",
    "        count += number\n",
    "\n",
    "print(\"Total words:\", count)"
   ]
  },
  {
   "cell_type": "markdown",
   "metadata": {},
   "source": [
    "python支持的5种数据类型及适用场景\n",
    "\n",
    "| 数据类型 | 特点 |\n",
    "| :-: | :-: |\n",
    "| 数字 | 多用于算数和几何计算 |\n",
    "| 字符串 | 一串字符，多用于字符中间的拆分和合并 |\n",
    "| 列表 | 存储多个并列数据 |\n",
    "| 元组 | 存储多个并列数据，不可变 |\n",
    "| 字典 | 存储映射关系 |"
   ]
  },
  {
   "cell_type": "markdown",
   "metadata": {},
   "source": [
    "### 4.3 扩展需求：统计中文、英文和标点符号各自的数量\n",
    "\n",
    "**思路：**\n",
    "1. 使用字符串类型先对每个文件包含的字符进行中文、英文、数字、空格、特殊字符的划分，并使用数字类型的变量对每种类型的数量进行了记录\n",
    "2. 使用了字典 + 列表的方式，用列表存储每个文件每一种字符的数量，并把它们统一存储在字典当中"
   ]
  },
  {
   "cell_type": "code",
   "execution_count": 16,
   "metadata": {},
   "outputs": [],
   "source": [
    "import string\n",
    "\n",
    "word_count = {\"count_en\":[],\n",
    "              \"count_dg\":[],\n",
    "              \"count_sp\":[],\n",
    "              \"count_zh\":[],\n",
    "              \"count_pu\":[]}"
   ]
  },
  {
   "cell_type": "code",
   "execution_count": 17,
   "metadata": {},
   "outputs": [],
   "source": [
    "def str_count(str):\n",
    "    '''找出字符串中的中英文、空格、数字、标点符号个数'''\n",
    "    count_en = count_dg = count_sp = count_zh = count_pu = 0\n",
    "\n",
    "    for s in str:\n",
    "        # 英文\n",
    "        if s in string.ascii_letters:\n",
    "            count_en += 1\n",
    "        # 数字\n",
    "        elif s.isdigit():\n",
    "            count_dg += 1\n",
    "        # 空格\n",
    "        elif s.isspace():\n",
    "            count_sp += 1\n",
    "        # 中文\n",
    "        elif s.isalpha():\n",
    "            count_zh += 1\n",
    "        # 特殊字符\n",
    "        else:\n",
    "            count_pu += 1\n",
    "    print('英文字符：', count_en)\n",
    "    print('数字：', count_dg)\n",
    "    print('空格：', count_sp)\n",
    "    print('中文：', count_zh)\n",
    "    print('特殊字符：', count_pu)\n",
    "    word_count[\"count_en\"].append(count_en)\n",
    "    word_count[\"count_dg\"].append(count_dg)\n",
    "    word_count[\"count_sp\"].append(count_sp)\n",
    "    word_count[\"count_zh\"].append(count_zh)\n",
    "    word_count[\"count_pu\"].append(count_pu)"
   ]
  },
  {
   "cell_type": "code",
   "execution_count": 18,
   "metadata": {},
   "outputs": [
    {
     "name": "stdout",
     "output_type": "stream",
     "text": [
      "英文字符： 7\n",
      "数字： 0\n",
      "空格： 1\n",
      "中文： 2\n",
      "特殊字符： 5\n",
      "英文字符： 7\n",
      "数字： 0\n",
      "空格： 1\n",
      "中文： 4\n",
      "特殊字符： 5\n",
      "count_en 数量为:14\n",
      "count_dg 数量为:0\n",
      "count_sp 数量为:2\n",
      "count_zh 数量为:6\n",
      "count_pu 数量为:10\n"
     ]
    }
   ],
   "source": [
    "str1 = \"'中文：', count_zh\"\n",
    "str_count(str1)\n",
    "str2 = \"'特殊字符：', count_pu\"\n",
    "str_count(str2)\n",
    "for item in word_count:\n",
    "    print(f\"{item} 数量为:{sum(word_count[item])}\")"
   ]
  },
  {
   "cell_type": "markdown",
   "metadata": {},
   "source": [
    "## 5 正则表达式：如何提高搜索内容的精确度？"
   ]
  },
  {
   "cell_type": "markdown",
   "metadata": {},
   "source": [
    "### 5.1 正则表达式的搜索过程\n",
    "\n",
    "- 使用函数：`re`库的`search()`函数，如果能搜索到匹配模型的结果，则返回匹配字符串出现的文件位置和匹配字符串的内容\n",
    "- 函数参数说明：\n",
    "  1. `pattern`：表示要匹配的模式\n",
    "  2. `string`：表示要匹配的字符串。如果模式能够匹配成功，则会返回一个`re`的对象，`re`对象里存储的是匹配位置和匹配内容；如果匹配失败，就会返回`None`\n",
    "  3. `flags`：表示`search()`函数在匹配之前可以进行各种特殊处理，比如通过`flag`参数忽略要匹配字符串的大小写功能"
   ]
  },
  {
   "cell_type": "code",
   "execution_count": 19,
   "metadata": {},
   "outputs": [
    {
     "data": {
      "text/plain": [
       "<re.Match object; span=(0, 11), match='13855556666'>"
      ]
     },
     "execution_count": 19,
     "metadata": {},
     "output_type": "execute_result"
    }
   ],
   "source": [
    "import re\n",
    "\n",
    "re.search(\"[0-9]{11}\",\"13855556666\")"
   ]
  },
  {
   "cell_type": "markdown",
   "metadata": {},
   "source": [
    "### 5.2 精确匹配\n",
    "\n",
    "使用`[]`、`{}`元字符进行精确匹配，`{}`字符表示前边的字符出现次数"
   ]
  },
  {
   "cell_type": "markdown",
   "metadata": {},
   "source": [
    "POSIX 字符组合和 ASCII 字符组合的常用对照表：\n",
    "\n",
    "| POSIX字符组合 | ASCII字符组合 |\n",
    "| :-: | :-: |\n",
    "| \\[alnum\\] | \\[a-zA-Z0-9\\] |\n",
    "| \\[alpha\\]| \\[a-zA-Z\\] |\n",
    "| \\[digit\\] | \\[0-9\\] |\n",
    "| \\[lower\\] | \\[a-z\\] |\n",
    "| \\[upper\\] | \\[A-Z\\] |\n",
    "| \\[space\\] | \\[\\\\t\\\\n\\\\r\\\\f\\\\v\\] |"
   ]
  },
  {
   "cell_type": "markdown",
   "metadata": {},
   "source": [
    "### 5.3 模糊匹配\n",
    "\n",
    "- `+`表示前边的元素出现的是1到无穷多次\n",
    "- `*`表示前面的元素出现的是0次到无穷多次\n",
    "- `？`表示前面的元素出现的是0次或一次"
   ]
  },
  {
   "cell_type": "code",
   "execution_count": 20,
   "metadata": {
    "scrolled": true
   },
   "outputs": [
    {
     "data": {
      "text/plain": [
       "<re.Match object; span=(2, 9), match='a13855b'>"
      ]
     },
     "execution_count": 20,
     "metadata": {},
     "output_type": "execute_result"
    }
   ],
   "source": [
    "# 匹配第一个字母是a，最后一个字母是b，中间是5个任意的字母\n",
    "re.search(\"a.{5}b\", \"aaa13855b5a57890bbb\")"
   ]
  },
  {
   "cell_type": "markdown",
   "metadata": {},
   "source": [
    "### 5.4 提取和替换\n",
    "\n",
    "- `group(0)`中参数0：表示如果搜索过程中能够匹配成功，会把匹配到的第一个字符串作为执行结果进行返回\n",
    "- `sub()`：对匹配到的字符串进行替换"
   ]
  },
  {
   "cell_type": "code",
   "execution_count": 21,
   "metadata": {},
   "outputs": [
    {
     "data": {
      "text/plain": [
       "'010-12345678'"
      ]
     },
     "execution_count": 21,
     "metadata": {},
     "output_type": "execute_result"
    }
   ],
   "source": [
    "import re\n",
    "\n",
    "re.search(\"[0-9]{3}-[0-9]{8}\", \"我的电话号码:010-12345678.\").group(0)"
   ]
  },
  {
   "cell_type": "code",
   "execution_count": 22,
   "metadata": {},
   "outputs": [
    {
     "data": {
      "text/plain": [
       "'aaNobb'"
      ]
     },
     "execution_count": 22,
     "metadata": {},
     "output_type": "execute_result"
    }
   ],
   "source": [
    "re.sub(\"(Y|y)(es)*\", \"No\", \"aayesbb\")"
   ]
  },
  {
   "cell_type": "markdown",
   "metadata": {},
   "source": [
    "### 5.5 元字符分类总结\n",
    "\n",
    "1. 匹配单个字符，要使用`[]`和`.`元字符\n",
    "2. 控制元字符出现次数，要使用`?`、`+`和`*`元字符\n",
    "3. 控制元字符的顺序和位置，要使用`^`、`$`、`|`和`()`元字符"
   ]
  },
  {
   "cell_type": "markdown",
   "metadata": {},
   "source": [
    "## 6 扩展搜索：如何快速找到想要的文件？"
   ]
  },
  {
   "cell_type": "markdown",
   "metadata": {},
   "source": [
    "### 6.1 基础搜索方法：用`pathlib`库搜索文件"
   ]
  },
  {
   "cell_type": "markdown",
   "metadata": {},
   "source": [
    "- 使用函数：使用`pathlib`库的`glob()`函数和`rglob()`函数\n",
    "- `glob()`函数：可以实现基于文件名的搜索\n",
    "- `rglob()`函数：基于扩展名的搜索\n",
    "- `rglob`函数与`glob`函数的主要区别：`rglob`函数是从文件路径末尾向前进行匹配 \n",
    "\n",
    "| 符号 | 含义 |\n",
    "| :-: | :-: |\n",
    "| * | 匹配0个或多个字符 |\n",
    "| ? | 匹配一个字符 |\n",
    "| \\[\\] | 匹配指定范围内的字符，如\\[0-9\\]匹配数字 |\n",
    "| ** | 匹配零个或多个目录及子目录，不包括.以及..开头的目录 |"
   ]
  },
  {
   "cell_type": "markdown",
   "metadata": {},
   "source": [
    "### 6.2 指定搜索路径\n",
    "\n",
    "**实现思路：**\n",
    "1. 生成配置文件，把要搜索的路径写入到配置文件中\n",
    "2. 读取配置文件和搜索的自定义函数，把配置文件中的路径读取出来，逐个目录搜索\n",
    "3. 将多个目录的搜索结果合并输出，得到想要的文件"
   ]
  },
  {
   "cell_type": "code",
   "execution_count": 23,
   "metadata": {},
   "outputs": [],
   "source": [
    "import configparser\n",
    "import pathlib\n",
    "from pathlib import Path\n",
    "import os\n",
    "\n",
    "def read_dirs(ini_filename, section, arg):\n",
    "    \"\"\"\n",
    "    通过ini文件名,节和参数获取要操作的多个目录\n",
    "    \"\"\"\n",
    "    current_path = pathlib.PurePath(os.getcwd())\n",
    "    inifile = current_path.joinpath(ini_filename)\n",
    "\n",
    "    # cf是类ConfigParser的实例\n",
    "    cf = configparser.ConfigParser()\n",
    "\n",
    "    # 读取.ini文件\n",
    "    cf.read(inifile)\n",
    "\n",
    "    # 读取notes节 和 searchpath参数\n",
    "    return cf.get(section, arg).split(\",\")\n",
    "\n",
    "\n",
    "def locate_file(base_dir, keywords):\n",
    "    p = Path(base_dir)\n",
    "    files = p.glob(keywords)\n",
    "    return list(files)"
   ]
  },
  {
   "cell_type": "code",
   "execution_count": 24,
   "metadata": {},
   "outputs": [],
   "source": [
    "dirs = read_dirs('data/ch09/search.ini', 'notes', 'searchpath')\n",
    "keywords = '**/*section*'\n",
    "\n",
    "# 定义存放查找结果的列表\n",
    "result = []\n",
    "# 得到项目的根路径\n",
    "program_dir = pathlib.Path(os.getcwd()).parents[1]\n",
    "# 从每个文件夹中搜索文件\n",
    "for dir_item in [str(program_dir) + x for x in dirs]:\n",
    "    files = locate_file(dir_item, keywords)\n",
    "    result += files"
   ]
  },
  {
   "cell_type": "code",
   "execution_count": 25,
   "metadata": {
    "scrolled": false
   },
   "outputs": [
    {
     "data": {
      "text/plain": [
       "['E:\\\\LearningDisk\\\\Learning_Projects\\\\MyOtherProject\\\\TechBooks-ReadingNote\\\\notes\\\\python_office_automation\\\\section01.ipynb',\n",
       " 'E:\\\\LearningDisk\\\\Learning_Projects\\\\MyOtherProject\\\\TechBooks-ReadingNote\\\\notes\\\\python_office_automation\\\\section02.ipynb',\n",
       " 'E:\\\\LearningDisk\\\\Learning_Projects\\\\MyOtherProject\\\\TechBooks-ReadingNote\\\\notes\\\\python_office_automation\\\\.ipynb_checkpoints\\\\Section01-checkpoint.ipynb',\n",
       " 'E:\\\\LearningDisk\\\\Learning_Projects\\\\MyOtherProject\\\\TechBooks-ReadingNote\\\\notes\\\\python_office_automation\\\\.ipynb_checkpoints\\\\section02-checkpoint.ipynb']"
      ]
     },
     "execution_count": 25,
     "metadata": {},
     "output_type": "execute_result"
    }
   ],
   "source": [
    "# 将PosixPath转为字符串\n",
    "result = [str(r) for r in result]\n",
    "result"
   ]
  },
  {
   "cell_type": "markdown",
   "metadata": {},
   "source": [
    "### 6.3 建立索引文件\n",
    "\n",
    "**实现思路：**\n",
    "1. 把配置文件目录下所有文件路径的保存方式由列表改为文件\n",
    "2. 把搜索功能改为从文件搜索。"
   ]
  },
  {
   "cell_type": "code",
   "execution_count": 26,
   "metadata": {},
   "outputs": [],
   "source": [
    "def locate_file(base_dir, keywords='**/*'):\n",
    "    \"\"\"\n",
    "    迭代目录下所有文件\n",
    "    \"\"\"\n",
    "    p = Path(base_dir)\n",
    "    return p.glob(keywords)\n",
    "\n",
    "\n",
    "def write_to_db(file_name, search_list):\n",
    "    \"\"\"\n",
    "    写入索引文件\n",
    "    \"\"\"\n",
    "    current_path = pathlib.PurePath(os.getcwd())\n",
    "    dbfile = current_path.joinpath(file_name)\n",
    "\n",
    "    with open(dbfile, 'w', encoding='utf-8') as f:\n",
    "        for r in search_list:\n",
    "            f.write(f\"{str(r)}\\n\")"
   ]
  },
  {
   "cell_type": "code",
   "execution_count": 27,
   "metadata": {},
   "outputs": [],
   "source": [
    "# 读取配置文件\n",
    "dirs = read_dirs('data/ch09/search.ini', 'notes', 'searchpath')\n",
    "# 遍历目录\n",
    "result = []\n",
    "# 得到项目的根路径\n",
    "program_dir = pathlib.Path(os.getcwd()).parents[1]\n",
    "# 从每个文件夹中搜索文件\n",
    "for dir_item in [str(program_dir) + x for x in dirs]:\n",
    "    for files in locate_file(dir_item):\n",
    "        result.append(files)\n",
    "\n",
    "# 将目录写入索引文件\n",
    "write_to_db(\"data/ch09/search.db\", result)"
   ]
  },
  {
   "cell_type": "code",
   "execution_count": 28,
   "metadata": {},
   "outputs": [
    {
     "name": "stdout",
     "output_type": "stream",
     "text": [
      "E:\\LearningDisk\\Learning_Projects\\MyOtherProject\\TechBooks-ReadingNote\\notes\\python_office_automation\\section01.ipynb\n",
      "E:\\LearningDisk\\Learning_Projects\\MyOtherProject\\TechBooks-ReadingNote\\notes\\python_office_automation\\section02.ipynb\n",
      "E:\\LearningDisk\\Learning_Projects\\MyOtherProject\\TechBooks-ReadingNote\\notes\\python_office_automation\\.ipynb_checkpoints\\section02-checkpoint.ipynb\n"
     ]
    }
   ],
   "source": [
    "import re\n",
    "\n",
    "keyword = \"section\"\n",
    "\n",
    "# 获取索引文件路径\n",
    "current_path = pathlib.PurePath(os.getcwd())\n",
    "dbfile = current_path.joinpath(\"data/ch09/search.db\")\n",
    "\n",
    "# 在索引文件中搜索关键字\n",
    "with open(dbfile, encoding='utf-8') as f:\n",
    "    for line in f.readlines():\n",
    "        if re.search(keyword, line):\n",
    "            print(line.rstrip())"
   ]
  },
  {
   "cell_type": "markdown",
   "metadata": {},
   "source": [
    "## 7 按指定顺序给词语排序，提高查找效率"
   ]
  },
  {
   "cell_type": "markdown",
   "metadata": {},
   "source": [
    "### 7.1 使用`sorted()`函数实现排序\n",
    "\n",
    "- 函数原型：`sorted(iterable, cmp=None, key=None, reverse=False)`\n",
    "- 默认排序是按照从小到大的顺序进行排序\n",
    "- 不会对原有的列表进行修改，会把排序好的结果存入到一个新的列表当中"
   ]
  },
  {
   "cell_type": "markdown",
   "metadata": {},
   "source": [
    "### 7.2 自定义排序\n",
    "\n",
    "- 获取Top3：先使用`reverse`参数，再切片取前三个元素\n",
    "- 自定义排序：通过`lambda`表达式定义与调用\n",
    "- 字典类型排序：可以基于键来排序，也可以基于值来排序"
   ]
  },
  {
   "cell_type": "code",
   "execution_count": 29,
   "metadata": {},
   "outputs": [
    {
     "name": "stdout",
     "output_type": "stream",
     "text": [
      "dict_items([('Jerry', '1003'), ('Tom', '1005'), ('Beta', '2001'), ('Shuke', '2003')])\n"
     ]
    }
   ],
   "source": [
    "student_dict1 = {'Jerry': '1003',\n",
    "                 'Tom': '1005',\n",
    "                 'Beta': '2001',\n",
    "                 'Shuke': '2003'}\n",
    "\n",
    "# 输出字典的键和值\n",
    "print(student_dict1.items())"
   ]
  },
  {
   "cell_type": "code",
   "execution_count": 30,
   "metadata": {},
   "outputs": [
    {
     "name": "stdout",
     "output_type": "stream",
     "text": [
      "[('Beta', '2001'), ('Jerry', '1003'), ('Shuke', '2003'), ('Tom', '1005')]\n"
     ]
    }
   ],
   "source": [
    "# 按照字典的键排序\n",
    "print(sorted(student_dict1.items(), key=lambda d: d[0]))"
   ]
  },
  {
   "cell_type": "code",
   "execution_count": 31,
   "metadata": {},
   "outputs": [
    {
     "name": "stdout",
     "output_type": "stream",
     "text": [
      "[('Jerry', '1003'), ('Tom', '1005'), ('Beta', '2001'), ('Shuke', '2003')]\n"
     ]
    }
   ],
   "source": [
    "# 按照字典的值排序\n",
    "result = sorted(student_dict1.items(), key=lambda d: d[1])\n",
    "print(result)"
   ]
  },
  {
   "cell_type": "code",
   "execution_count": 32,
   "metadata": {},
   "outputs": [
    {
     "name": "stdout",
     "output_type": "stream",
     "text": [
      "{'Jerry': '1003', 'Tom': '1005', 'Beta': '2001', 'Shuke': '2003'}\n"
     ]
    }
   ],
   "source": [
    "# 将结果转换为字典\n",
    "print(dict(result))"
   ]
  },
  {
   "cell_type": "markdown",
   "metadata": {},
   "source": [
    "### 7.3 排序场景总结\n",
    "\n",
    "1. 如果能转换成列表，可以采用更改`lambda`下标的方式，实现对指定字段的排序\n",
    "2. 如果不能转换成列表，可以尝试将复杂的类型中，不需要进行排序的部分进行删减，简化成列表或字典类型"
   ]
  },
  {
   "cell_type": "markdown",
   "metadata": {},
   "source": [
    "## 8 通过程序并行计算，避免CPU资源浪费"
   ]
  },
  {
   "cell_type": "markdown",
   "metadata": {},
   "source": [
    "### 8.1 并行计算的必要性\n",
    "\n",
    "1. 大型运营场景下，python自动化执行需要进行大量的计算，而计算主要是通过CPU来实现的\n",
    "2. 这些任务往往都需要运行相同的程序，但是程序的参数却需要根据不同的需求进行调整"
   ]
  },
  {
   "cell_type": "markdown",
   "metadata": {},
   "source": [
    "### 8.2 并行计算的实现\n",
    "\n",
    "- 实现方式：使用`Pool`包中的`map`函数，创建进程执行任务\n",
    "- 传入`map`函数的第二个参数必须是可迭代的对象"
   ]
  },
  {
   "cell_type": "code",
   "execution_count": 33,
   "metadata": {},
   "outputs": [],
   "source": [
    "from multiprocessing import Pool\n",
    "from functools import partial\n",
    "import inspect\n",
    " \n",
    "def parallal_task(func, iterable, cpu_count = 4):\n",
    " \n",
    "    with open(f'./tmp_func.py', 'w') as file:\n",
    "        file.write(inspect.getsource(func).replace(func.__name__, \"task\"))\n",
    " \n",
    "    from tmp_func import task\n",
    " \n",
    "    if __name__ == '__main__':\n",
    "        func = partial(task)\n",
    "        pool = Pool(cpu_count * 2)\n",
    "        res = pool.map(func, iterable)\n",
    "        pool.close()\n",
    "        return res\n",
    "    else:\n",
    "        raise \"Not in Jupyter Notebook\""
   ]
  },
  {
   "cell_type": "code",
   "execution_count": 34,
   "metadata": {},
   "outputs": [
    {
     "name": "stdout",
     "output_type": "stream",
     "text": [
      "计算平方的结果是:1\n",
      "计算平方的结果是:4\n",
      "计算平方的结果是:9\n",
      "计算平方的结果是:16\n",
      "计算平方的结果是:25\n",
      "计算平方的结果是:36\n",
      "计算平方的结果是:49\n",
      "计算平方的结果是:64\n",
      "计算平方的结果是:81\n",
      "计算平方的结果是:100\n",
      "计算平方的结果是:121\n",
      "计算平方的结果是:144\n",
      "计算平方的结果是:169\n",
      "计算平方的结果是:196\n",
      "计算平方的结果是:225\n",
      "计算平方的结果是:256\n",
      "计算平方的结果是:289\n",
      "计算平方的结果是:324\n",
      "计算平方的结果是:361\n",
      "计算平方的结果是:400\n",
      "计算平方的结果是:441\n",
      "计算平方的结果是:484\n",
      "计算平方的结果是:529\n",
      "计算平方的结果是:576\n",
      "计算平方的结果是:625\n",
      "计算平方的结果是:676\n",
      "计算平方的结果是:729\n",
      "计算平方的结果是:784\n",
      "计算平方的结果是:841\n",
      "计算平方的结果是:900\n",
      "计算平方的结果是:961\n",
      "计算平方的结果是:1024\n",
      "计算平方的结果是:1089\n",
      "计算平方的结果是:1156\n",
      "计算平方的结果是:1225\n",
      "计算平方的结果是:1296\n",
      "计算平方的结果是:1369\n",
      "计算平方的结果是:1444\n",
      "计算平方的结果是:1521\n",
      "计算平方的结果是:1600\n",
      "计算平方的结果是:1681\n",
      "计算平方的结果是:1764\n",
      "计算平方的结果是:1849\n",
      "计算平方的结果是:1936\n",
      "计算平方的结果是:2025\n",
      "计算平方的结果是:2116\n",
      "计算平方的结果是:2209\n",
      "计算平方的结果是:2304\n",
      "计算平方的结果是:2401\n",
      "计算平方的结果是:2500\n",
      "计算平方的结果是:2601\n",
      "计算平方的结果是:2704\n",
      "计算平方的结果是:2809\n",
      "计算平方的结果是:2916\n",
      "计算平方的结果是:3025\n",
      "计算平方的结果是:3136\n",
      "计算平方的结果是:3249\n",
      "计算平方的结果是:3364\n",
      "计算平方的结果是:3481\n",
      "计算平方的结果是:3600\n",
      "计算平方的结果是:3721\n",
      "计算平方的结果是:3844\n",
      "计算平方的结果是:3969\n",
      "计算平方的结果是:4096\n",
      "计算平方的结果是:4225\n",
      "计算平方的结果是:4356\n",
      "计算平方的结果是:4489\n",
      "计算平方的结果是:4624\n",
      "计算平方的结果是:4761\n",
      "计算平方的结果是:4900\n",
      "计算平方的结果是:5041\n",
      "计算平方的结果是:5184\n",
      "计算平方的结果是:5329\n",
      "计算平方的结果是:5476\n",
      "计算平方的结果是:5625\n",
      "计算平方的结果是:5776\n",
      "计算平方的结果是:5929\n",
      "计算平方的结果是:6084\n",
      "计算平方的结果是:6241\n",
      "计算平方的结果是:6400\n",
      "计算平方的结果是:6561\n",
      "计算平方的结果是:6724\n",
      "计算平方的结果是:6889\n",
      "计算平方的结果是:7056\n",
      "计算平方的结果是:7225\n",
      "计算平方的结果是:7396\n",
      "计算平方的结果是:7569\n",
      "计算平方的结果是:7744\n",
      "计算平方的结果是:7921\n",
      "计算平方的结果是:8100\n",
      "计算平方的结果是:8281\n",
      "计算平方的结果是:8464\n",
      "计算平方的结果是:8649\n",
      "计算平方的结果是:8836\n",
      "计算平方的结果是:9025\n",
      "计算平方的结果是:9216\n",
      "计算平方的结果是:9409\n",
      "计算平方的结果是:9604\n",
      "计算平方的结果是:9801\n",
      "计算平方的结果是:10000\n"
     ]
    }
   ],
   "source": [
    "# 计算平方\n",
    "def def_f(x):\n",
    "    return x * x\n",
    "\n",
    "for res in parallal_task(def_f, range(1, 101)):\n",
    "    print(f'计算平方的结果是:{res}')"
   ]
  },
  {
   "cell_type": "markdown",
   "metadata": {},
   "source": [
    "### 8.3 并行计算提高效率的方法\n",
    "\n",
    "1. 为并行程序自动指定并行度：根据计算机的CPU资源，设置合理的进程数量"
   ]
  },
  {
   "cell_type": "code",
   "execution_count": 35,
   "metadata": {},
   "outputs": [],
   "source": [
    "import psutil\n",
    "\n",
    "# 逻辑cpu个数\n",
    "count = psutil.cpu_count()"
   ]
  },
  {
   "cell_type": "markdown",
   "metadata": {},
   "source": [
    "2. 统计程序运行的时间"
   ]
  },
  {
   "cell_type": "code",
   "execution_count": 36,
   "metadata": {},
   "outputs": [
    {
     "name": "stdout",
     "output_type": "stream",
     "text": [
      "并行计算时间统计: 0.2190546989440918\n",
      "串行计算时间统计: 0.002999544143676758\n"
     ]
    }
   ],
   "source": [
    "import time\n",
    "\n",
    "# 并行计算时间统计\n",
    "time1 = time.time()\n",
    "for res in parallal_task(def_f, range(1, 10001)):\n",
    "#     print(f'计算平方的结果是:{res}')\n",
    "    pass\n",
    "\n",
    "time2 = time.time()\n",
    "print(\"并行计算时间统计:\", str(time2 - time1))\n",
    "\n",
    "# 串行计算时间统计\n",
    "list1 = []\n",
    "\n",
    "time1 = time.time()\n",
    "for i in range(1, 10001):\n",
    "    list1.append(def_f(i))\n",
    "time2 = time.time()\n",
    "\n",
    "print(\"串行计算时间统计:\", str(time2 - time1))"
   ]
  },
  {
   "cell_type": "markdown",
   "metadata": {},
   "source": [
    "## 9 总结"
   ]
  },
  {
   "cell_type": "markdown",
   "metadata": {},
   "source": [
    "&emsp;&emsp;本篇章主要介绍了使用函数和字典方式进行多次替换、通过使用图像处理库进行长图拼接、使用jieba库进行情感分析、对跨文件进行字数统计、使用正则表达式进行精确搜索、文件搜索、使用排序函数进行排序检索、通过并行计算有效利用CPU资源；\n",
    "1. 对于替换，可采用字符串的`replace`函数、字典映射、逻辑判断等方式\n",
    "2. 长图拼接：通过使用ImageMagick图像处理软件和外部命令调用，实现长图拼接功能\n",
    "3. 感情色彩的单词数量统计：使用`jieba`库，通过数据预处理、词性标注、词频统计、数据再次处理等过程，实现词性统计\n",
    "4. 跨文件的字数统计：通过文件操作函数，统计多文件中的字数\n",
    "5. 精确搜索：使用`re`库，配合正则表达式，达到精确搜索的目的\n",
    "6. 文件搜索：使用`pathlib`库的`glob()`和`rglob()`函数，实现对文件的搜索，可使用指定搜索路径和建立索引的两种方法，提高文件搜索效率\n",
    "7. 数据排序：根据不同场景，使用不同的数据类型，并通过`sorted`函数进行排序\n",
    "8. 并行计算：通过`multiprocessing`库的`Pool`包可以实现基于进程的并行计算功能，`Pool`包的 `map()`函数会根据指定的进程数量实现并行运行"
   ]
  }
 ],
 "metadata": {
  "kernelspec": {
   "display_name": "Python 3 (ipykernel)",
   "language": "python",
   "name": "python3"
  },
  "language_info": {
   "codemirror_mode": {
    "name": "ipython",
    "version": 3
   },
   "file_extension": ".py",
   "mimetype": "text/x-python",
   "name": "python",
   "nbconvert_exporter": "python",
   "pygments_lexer": "ipython3",
   "version": "3.8.12"
  }
 },
 "nbformat": 4,
 "nbformat_minor": 1
}
