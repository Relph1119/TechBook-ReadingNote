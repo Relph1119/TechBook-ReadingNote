{
 "cells": [
  {
   "cell_type": "markdown",
   "metadata": {
    "collapsed": true
   },
   "source": [
    "# Section03 “控制”模块：增强办公软件及周边软硬件的交互能力"
   ]
  },
  {
   "cell_type": "markdown",
   "metadata": {},
   "source": [
    "## 1 文本处理函数：三招解决数据对齐问题"
   ]
  },
  {
   "cell_type": "markdown",
   "metadata": {},
   "source": [
    "### 1.1 数据对齐的思想"
   ]
  },
  {
   "cell_type": "markdown",
   "metadata": {},
   "source": [
    "- 对齐方式：右对齐、左对齐和居中对齐\n",
    "  1. 数值型数据会自动靠右对齐，比如日期、时间、数字\n",
    "  2. 文本型数据会自动靠左对齐，比如汉字、字母、英文、引号开头的数字"
   ]
  },
  {
   "cell_type": "markdown",
   "metadata": {},
   "source": [
    "- 应对场景：\n",
    "  1. 采用`format()`函数，实现数字对齐\n",
    "  2. 使用`split()`和`join()`函数，实现日期右侧对齐\n",
    "  3. 使用`strip()`函数，实现文本型数据的左侧对齐"
   ]
  },
  {
   "cell_type": "markdown",
   "metadata": {},
   "source": [
    "### 1.2 使用`format()`函数，实现数字对齐"
   ]
  },
  {
   "cell_type": "markdown",
   "metadata": {},
   "source": [
    "- 处理思路：使用`format()`函数进行格式处理后，保留小数点后的位数，再粘贴到Excel中，可以实现自动右侧对齐"
   ]
  },
  {
   "cell_type": "markdown",
   "metadata": {},
   "source": [
    "- 格式要求：\n",
    "    1. 符号和空格：`+`表示在正数前显示`+`，`-`表示负数前显示`-`，（空格）表示在正数前加空格\n",
    "    2. 保留小数点后的位数：`^`、`<`、`>`分别是居中、左对齐、右对齐\n",
    "    3. 类型：用`b`、`d`、`f`分别表示二进制、十进制和浮点数"
   ]
  },
  {
   "cell_type": "code",
   "execution_count": 1,
   "metadata": {},
   "outputs": [
    {
     "name": "stdout",
     "output_type": "stream",
     "text": [
      "   100\n"
     ]
    }
   ],
   "source": [
    "# 右对齐，6个字符宽度\n",
    "print(\"{:>6d}\".format(100))"
   ]
  },
  {
   "cell_type": "markdown",
   "metadata": {},
   "source": [
    "### 1.3 使用字符串函数，实现日期右侧对齐\n",
    "\n",
    "处理思路：先拆分日期、再调整格式、最后合并日期"
   ]
  },
  {
   "cell_type": "code",
   "execution_count": 2,
   "metadata": {},
   "outputs": [
    {
     "name": "stdout",
     "output_type": "stream",
     "text": [
      "2021-03-18\n",
      "2021-03-18\n",
      "2021-12-21\n",
      "2021-03-08\n",
      "2021-03-01\n"
     ]
    }
   ],
   "source": [
    "date_demo = [\n",
    "    \"2021-03-18\",\n",
    "    \"21-3-18\",\n",
    "    \"2021-12-21\",\n",
    "    \"2021-3-8\",\n",
    "    \"21-3-1\"]\n",
    "\n",
    "for dd in date_demo:\n",
    "    # 拆分日期\n",
    "    year, month, day = dd.split('-')\n",
    "    # 调整格式\n",
    "    if len(year)== 2 :\n",
    "        new_year = 2021\n",
    "    else:\n",
    "        new_year = year\n",
    "    \n",
    "    # 对月份进行调整\n",
    "    month = \"{:>02d}\".format(int(month))\n",
    "    # 对日期进行调整\n",
    "    day = \"{:>02d}\".format(int(day))\n",
    "    # 合并日期\n",
    "    new_date = [str(new_year), str(month), str(day)]\n",
    "    new_date = \"-\".join(new_date)\n",
    "\n",
    "    print(new_date)"
   ]
  },
  {
   "cell_type": "markdown",
   "metadata": {},
   "source": [
    "### 1.4 使用字符串函数，实现文本型数据的对齐\n",
    "\n",
    "实现思路：使用字符串自带的`strip()`函数，删除文字前后空格"
   ]
  },
  {
   "cell_type": "code",
   "execution_count": 3,
   "metadata": {},
   "outputs": [
    {
     "name": "stdout",
     "output_type": "stream",
     "text": [
      "|广东省广州市|\n"
     ]
    }
   ],
   "source": [
    "string = \"   广东省广州市   \"\n",
    "newstring = string.strip()\n",
    "print(f\"|{newstring}|\")"
   ]
  },
  {
   "cell_type": "markdown",
   "metadata": {},
   "source": [
    "## 2 Excel插件：如何扩展Excel的基本功能？"
   ]
  },
  {
   "cell_type": "markdown",
   "metadata": {},
   "source": [
    "### 2.1 Power Query插件\n",
    "\n",
    "- 主要用途：在查询方面对Excel进行优化\n",
    "- 优化步骤：获取数据、转换和加载\n",
    "  1. 获取数据：切换到“数据”选项卡。接着，单击“获取数据”按钮，在下拉菜单中选择“自文件”命令，继续在下一级菜单中选择“从文件夹”命令，通过弹出的“文件夹”对话框，就可以加载文件夹中的所有 Excel 文件\n",
    "  2. 转换：把加载到`Power Query`中的数据从文件到`sheet`，再从`sheet`到行列依次处理，对合并好的数据再进行添加、删除列、筛选、添加自定义计算等操作\n",
    "  3. 加载：把已经清理和转换的数据返回到 Excel 中"
   ]
  },
  {
   "cell_type": "markdown",
   "metadata": {},
   "source": [
    "### 2.2 把多个文件合并成一个Excel"
   ]
  },
  {
   "cell_type": "markdown",
   "metadata": {},
   "source": [
    "1. 获取数据：通过Excel的“数据选项卡”-“获取数据”-“自文件”-“从文件夹”命令，选中需要合并的文件夹，这样该文件夹内的所有文件都会被识别出来\n",
    "2. 把工作簿中的数据从`Content`列中解析出来，并且添加在现有内容的右侧，切换到“添加列”选项卡，单击“自定义列”按钮，然后在弹出的对话框中输入公式`Excel.Workbook([Content],true) `\n",
    "3. 调整每个 sheet 的每一行，点击第二步添加“自定义”列右侧的数据展开按钮，然后取消勾选“使用原始列名作为前缀”复选框，并点击确定\n",
    "4. 在调整完行之后，你还需要调整每个文件中要查询的`sheet`和列\n",
    "5. 使用主页选项卡的“删除列”下拉列表，选择“删除其他列”\n",
    "6. 修改类型：点击列标题前的类型图标，通过弹出的下拉列表，选择指定的类型\n",
    "7. 把编辑器的数据保存回Excel中，点击“主页”选项卡上的关闭并下载"
   ]
  },
  {
   "cell_type": "markdown",
   "metadata": {},
   "source": [
    "### 2.3 单元格的拆分"
   ]
  },
  {
   "cell_type": "markdown",
   "metadata": {},
   "source": [
    "1. 启动Power Query编辑器\n",
    "2. 拆分：选中“转换”选项卡，通过选中需要拆分的列，使用拆分列下拉列表的“按分隔符拆分”按钮，把分隔符改为空格后，再点击确定\n",
    "3. 删除原始列，完成拆分功能"
   ]
  },
  {
   "cell_type": "markdown",
   "metadata": {},
   "source": [
    "## 3 VBA脚本编程：如何扩展Excel，实现文件的批量打印？"
   ]
  },
  {
   "cell_type": "markdown",
   "metadata": {},
   "source": [
    "### 3.1  宏和VBA脚本的用途"
   ]
  },
  {
   "cell_type": "markdown",
   "metadata": {},
   "source": [
    "- 通过宏可以记录的内容包括对 Excel 格式和文字的修改\n",
    "- 使用宏的录制功能，把格式调整、复制粘贴、打印等重复操作记录下来，并保存成一个快捷键\n",
    "- 利用 VBA 脚本可以扩展宏的功能，把手动操作部分实现自动化"
   ]
  },
  {
   "cell_type": "markdown",
   "metadata": {},
   "source": [
    "### 3.2 使用宏，实现单个工作表的打印\n",
    "\n",
    "- 自动打印的步骤：\n",
    "    1. 录制宏\n",
    "    2. 手动执行一次操作 \n",
    "    3. 停止宏录制\n",
    "    4. 通过快捷键执行宏"
   ]
  },
  {
   "cell_type": "markdown",
   "metadata": {},
   "source": [
    "### 3.3 使用VBA脚本的循环，打印多个工作表\n",
    "\n",
    "1. 查看当前宏的VBA脚本：使用视图-宏-查看宏按钮，选中要查看的宏，并点击右侧的编辑按钮\n",
    "2. 编写VBA脚本\n",
    "3. 通过VBA脚本增强了默认录制宏的功能，实现了批量打印工作表的功能"
   ]
  },
  {
   "cell_type": "markdown",
   "metadata": {},
   "source": [
    "## 4 PowerShell脚本：如何实现文件批量处理的自动化？"
   ]
  },
  {
   "cell_type": "markdown",
   "metadata": {},
   "source": [
    "### 4.1 PowerShell介绍\n",
    "\n",
    "- PowerShell是开源的终端命令解释器\n",
    "- 使用场景：所有的GUI操作就完全可以基于PowerShell实现，能用GUI界面实现Windows操作系统中的所有功能"
   ]
  },
  {
   "cell_type": "markdown",
   "metadata": {},
   "source": [
    "### 4.2 实现文件批量重命名"
   ]
  },
  {
   "cell_type": "markdown",
   "metadata": {},
   "source": [
    "1. 批量创建文本文件\n",
    "\n",
    "```powershell\n",
    "foreach($num in (1..10)) { New-Item $num\".txt\" -type file }\n",
    "```"
   ]
  },
  {
   "cell_type": "markdown",
   "metadata": {},
   "source": [
    "2. 批量修改文件名\n",
    "\n",
    "```powershell\n",
    "dir *.txt | foreach { Rename-Item $_ -NewName (\"new_\"+$_.BaseName+\"_new.txt\")  }\n",
    "```"
   ]
  },
  {
   "cell_type": "markdown",
   "metadata": {},
   "source": [
    "其中`$_`这个内置变量表示当前对象，`$.BaseName`用于获得文件 (不包含扩展名的) 基本名称，以及`$.extension`用于获得扩展名"
   ]
  },
  {
   "cell_type": "markdown",
   "metadata": {},
   "source": [
    "3. PowerShell中与“Item”相关的Cmdlet\n",
    "\n",
    "```\n",
    "PS> Get-Command -Noun Item\n",
    "\n",
    "CommandType     Name                            Definition\n",
    "-----------     ----                            ----------\n",
    "Cmdlet          Clear-Item                      Clear-Item [-Path] <String[]...\n",
    "Cmdlet          Copy-Item                       Copy-Item [-Path] <String[]>...\n",
    "Cmdlet          Get-Item                        Get-Item [-Path] <String[]> ...\n",
    "Cmdlet          Invoke-Item                     Invoke-Item [-Path] <String[...\n",
    "Cmdlet          Move-Item                       Move-Item [-Path] <String[]>...\n",
    "Cmdlet          New-Item                        New-Item [-Path] <String[]> ...\n",
    "Cmdlet          Remove-Item                     Remove-Item [-Path] <String[...\n",
    "Cmdlet          Rename-Item                     Rename-Item [-Path] <String>...\n",
    "Cmdlet          Set-Item                        Set-Item [-Path] <String[]> ...\n",
    "```"
   ]
  },
  {
   "cell_type": "markdown",
   "metadata": {},
   "source": [
    "### 4.3 按扩展名搜索文件"
   ]
  },
  {
   "cell_type": "markdown",
   "metadata": {},
   "source": [
    "1. 显示当前目录下所有的文件扩展名\n",
    "\n",
    "```powershell\n",
    "dir | foreach{$_.extension} | Get-Unique\n",
    "```"
   ]
  },
  {
   "cell_type": "markdown",
   "metadata": {},
   "source": [
    "2. 取出符合扩展名的文件名称\n",
    "\n",
    "使用`Where-Object`命令，对管道中的每个对象进行筛选，把不符合条件的对象删除\n",
    "\n",
    "```powershell\n",
    "dir | Where-Object{ $_.extension -eq \".zip\" }\n",
    "```"
   ]
  },
  {
   "cell_type": "markdown",
   "metadata": {},
   "source": [
    "同时搜索“.zip”和“.rar”文件\n",
    "```powershell\n",
    "dir | Where-Object{ ($_.extension -eq \".zip\" ) -or ($_.extension -eq \".rar\" ) }\n",
    "```"
   ]
  },
  {
   "cell_type": "markdown",
   "metadata": {},
   "source": [
    "## 5 总结"
   ]
  },
  {
   "cell_type": "markdown",
   "metadata": {},
   "source": [
    "&emsp;&emsp;本篇章主要介绍使用办公软件进行自动化操作。\n",
    "1. 通过使用python中的`format()`函数对字符串或数字进行格式化，`split()`函数将字符串按照指定的分隔符进行分隔，`join()`函数将列表、元组的每个元素连成字符串，`strip()`函数能够自动去掉字符串前后的空格，完成对文本的对齐\n",
    "2. 通过Excel的Power Query插件，实现多个文件的合并和单元格的拆分处理，并能完成自动化查询的功能\n",
    "3. 通过宏和VBA脚本，支持对所有Office办公的自动化操作\n",
    "4. 通过使用PowerShell脚本，完成批量改名和按多个扩展名搜索文件的功能，使用Cmdlet类型的命令，支持批量操作"
   ]
  }
 ],
 "metadata": {
  "kernelspec": {
   "display_name": "Python 3 (ipykernel)",
   "language": "python",
   "name": "python3"
  },
  "language_info": {
   "codemirror_mode": {
    "name": "ipython",
    "version": 3
   },
   "file_extension": ".py",
   "mimetype": "text/x-python",
   "name": "python",
   "nbconvert_exporter": "python",
   "pygments_lexer": "ipython3",
   "version": "3.8.12"
  }
 },
 "nbformat": 4,
 "nbformat_minor": 1
}
