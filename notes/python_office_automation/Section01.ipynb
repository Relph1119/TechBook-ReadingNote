{
 "cells": [
  {
   "cell_type": "markdown",
   "id": "ea9c206e",
   "metadata": {},
   "source": [
    "# Section01 “输入”模块：不同文件类型的批量合并和拆分问题"
   ]
  },
  {
   "cell_type": "markdown",
   "id": "fbfafbac",
   "metadata": {},
   "source": [
    "## 1 拆分与合并：快速地批量处理内容相似的Excel"
   ]
  },
  {
   "cell_type": "code",
   "execution_count": null,
   "id": "49b94858",
   "metadata": {},
   "outputs": [],
   "source": []
  },
  {
   "cell_type": "markdown",
   "id": "56d4372f",
   "metadata": {},
   "source": [
    "## 2 善用Python扩展库：批量合并多个文档"
   ]
  },
  {
   "cell_type": "code",
   "execution_count": null,
   "id": "df40150d",
   "metadata": {},
   "outputs": [],
   "source": []
  },
  {
   "cell_type": "markdown",
   "id": "73f50d3e",
   "metadata": {},
   "source": [
    "## 3 图片转文字：提高识别准确率"
   ]
  },
  {
   "cell_type": "code",
   "execution_count": null,
   "id": "61ae5ec8",
   "metadata": {},
   "outputs": [],
   "source": []
  },
  {
   "cell_type": "markdown",
   "id": "a030d49a",
   "metadata": {},
   "source": [
    "## 4 总结"
   ]
  },
  {
   "cell_type": "code",
   "execution_count": null,
   "id": "359c9217",
   "metadata": {},
   "outputs": [],
   "source": []
  }
 ],
 "metadata": {
  "kernelspec": {
   "display_name": "Python 3 (ipykernel)",
   "language": "python",
   "name": "python3"
  },
  "language_info": {
   "codemirror_mode": {
    "name": "ipython",
    "version": 3
   },
   "file_extension": ".py",
   "mimetype": "text/x-python",
   "name": "python",
   "nbconvert_exporter": "python",
   "pygments_lexer": "ipython3",
   "version": "3.8.12"
  }
 },
 "nbformat": 4,
 "nbformat_minor": 5
}
