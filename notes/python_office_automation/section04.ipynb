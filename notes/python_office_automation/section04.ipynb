{
 "cells": [
  {
   "cell_type": "markdown",
   "metadata": {
    "collapsed": true
   },
   "source": [
    "# Section04 “存储”模块：和文件相关的常用操作"
   ]
  },
  {
   "cell_type": "markdown",
   "metadata": {},
   "source": [
    "## 1 循环与文件目录管理：如何实现文件的批量重命名？"
   ]
  },
  {
   "cell_type": "markdown",
   "metadata": {},
   "source": [
    "### 1.1 使用`os`库实现文件批量重命名"
   ]
  },
  {
   "cell_type": "code",
   "execution_count": 2,
   "metadata": {},
   "outputs": [],
   "source": [
    "import os\n",
    "\n",
    "def rename_file(file_path, file_suffix, verbose= 0):\n",
    "    # 取得指定文件夹下的文件列表\n",
    "    old_names = os.listdir(file_path)\n",
    "    # 新文件名称从1开始\n",
    "    new_name = 1\n",
    "\n",
    "    # 取得所有的文件名\n",
    "    for old_name in old_names:\n",
    "        # 根据扩展名，判断文件是否需要改名\n",
    "        if old_name.endswith(file_suffix):\n",
    "            # 完整的文件路径\n",
    "            old_path = os.path.join(file_path, old_name)\n",
    "\n",
    "            # 新的文件名\n",
    "            new_path = os.path.join(file_path, str(new_name)+\".JPG\")\n",
    "\n",
    "            # 重命名\n",
    "            os.rename(old_path, new_path)\n",
    "\n",
    "            # 文件名数字加1\n",
    "            new_name = int(new_name)+1\n",
    "    if (verbose == 1):\n",
    "        # 显示改名后的结果\n",
    "        print(os.listdir(file_path))"
   ]
  },
  {
   "cell_type": "markdown",
   "metadata": {},
   "source": [
    "### 1.2 增加命令行解析函数"
   ]
  },
  {
   "cell_type": "code",
   "execution_count": 3,
   "metadata": {},
   "outputs": [],
   "source": [
    "def args_opt(): \n",
    "    \"\"\"获取命令行参数函数\"\"\" \n",
    "    \n",
    "    # 定义参数对象 \n",
    "    parser = argparse.ArgumentParser() \n",
    "    \n",
    "    # 增加参数选项、是否必须、帮助信息 \n",
    "    parser.add_argument(\"-p\", \"--path\", required=True, help=\"path to rename\") \n",
    "    parser.add_argument(\"-e\", \"--ext\", required=True, help=\"files name extension, eg: jpg\") \n",
    "    \n",
    "    # 返回取得的所有参数 \n",
    "    return parser.parse_args()"
   ]
  },
  {
   "cell_type": "markdown",
   "metadata": {},
   "source": [
    "### 1.3 代码重构\n",
    "\n",
    "1. 通过使用函数增加代码的逻辑性\n",
    "2. 通过“name”变量增加了程序入口，便于直接找到程序开始执行的位置\n",
    "3. 通过增加命令行参数，不用修改代码，就能实现函数的参数的修改。"
   ]
  },
  {
   "cell_type": "markdown",
   "metadata": {},
   "source": [
    "## 2 不同操作系统下，如何通过网络同步文件？"
   ]
  },
  {
   "cell_type": "markdown",
   "metadata": {},
   "source": [
    "### 2.1 实现文件的浏览和下载\n",
    "\n",
    "- 通过命令行运行模块：使用`-m`参数，运行Python的模块\n",
    "- 使用`http.server`模块提供HTTP服务：基于HTTP协议实现的文件浏览和下载功能，由于客户端服务端都采用HTTP协议，那么服务端列出的文件目录会自动被浏览器翻译给客户端的用户，也就能通过浏览器查看到服务器上的文件名称，并把服务器的文件下载到客户端的电脑上"
   ]
  },
  {
   "cell_type": "markdown",
   "metadata": {},
   "source": [
    "!python3 -m http.server 8080"
   ]
  },
  {
   "cell_type": "markdown",
   "metadata": {},
   "source": [
    "### 2.2 实现文件的上传\n",
    "\n",
    "- 两种请求 HTTP 服务器的方式：\n",
    "  1. GET 方式一般用于获取服务器的信息，类似从服务器上查找数据\n",
    "  2. POST 方式一般用于向服务器上传信息，类似向服务器写入\n",
    "- 使用`Flask`库运行服务器，并提供服务请求"
   ]
  },
  {
   "cell_type": "code",
   "execution_count": 37,
   "metadata": {},
   "outputs": [],
   "source": [
    "import os\n",
    "from flask import Flask, request\n",
    "\n",
    "# 初始化\n",
    "app = Flask(\"Download_Picture\")\n",
    "# 配置App对象\n",
    "app.config['UPLOAD_FOLDER'] = os.getcwd()\n",
    "\n",
    "html = '''\n",
    "    <!doctype html>\n",
    "    <title>Upload new File</title>\n",
    "    <h1>Upload new File</h1>\n",
    "    <form action=\"\" method=post enctype=multipart/form-data>\n",
    "      <p><input type=file name=file>\n",
    "         <input type=submit value=Upload>\n",
    "    </form>\n",
    "    '''\n",
    "\n",
    "# 把HTML的代码传递给游览器\n",
    "@app.route('/', methods=['GET', 'POST'])\n",
    "def upload_file():\n",
    "    if request.method == 'POST':\n",
    "        file = request.files['file']\n",
    "        filename = file.filename\n",
    "        file.save(os.path.join(app.config['UPLOAD_FOLDER'], filename))\n",
    "    return html"
   ]
  },
  {
   "cell_type": "code",
   "execution_count": 6,
   "metadata": {},
   "outputs": [
    {
     "name": "stdout",
     "output_type": "stream",
     "text": [
      " * Serving Flask app '__main__' (lazy loading)\n",
      " * Environment: production\n",
      "\u001b[31m   WARNING: This is a development server. Do not use it in a production deployment.\u001b[0m\n",
      "\u001b[2m   Use a production WSGI server instead.\u001b[0m\n",
      " * Debug mode: off\n"
     ]
    },
    {
     "name": "stderr",
     "output_type": "stream",
     "text": [
      " * Running on all addresses.\n",
      "   WARNING: This is a development server. Do not use it in a production deployment.\n",
      " * Running on http://172.28.216.19:8090/ (Press CTRL+C to quit)\n"
     ]
    }
   ],
   "source": [
    "# 设置应用端口为8090\n",
    "app.run(host='0.0.0.0', port=8090)"
   ]
  },
  {
   "cell_type": "markdown",
   "metadata": {},
   "source": [
    "## 3 http库：如何批量下载在线内容，解放鼠标（上）？"
   ]
  },
  {
   "cell_type": "markdown",
   "metadata": {},
   "source": [
    "### 3.1 实现批量下载图片\n",
    "\n",
    "1. 访问 HTTP 服务器，得到搜索结果的整个网页\n",
    "2. 在访问服务器之后下载一张图片\n",
    "3. 找到多张图片的相似地址\n",
    "4. 提取相似地址，下载多张图片"
   ]
  },
  {
   "cell_type": "markdown",
   "metadata": {},
   "source": [
    "### 3.2 访问HTTP服务端的资源\n",
    "\n",
    "使用`requests-html`库实现访问HTTP服务器：\n",
    "1. 设置请求的URL\n",
    "2. 启动一个会话\n",
    "3. 发送`GET`请求\n",
    "4. 得到返回结果"
   ]
  },
  {
   "cell_type": "code",
   "execution_count": 36,
   "metadata": {
    "scrolled": true
   },
   "outputs": [
    {
     "name": "stdout",
     "output_type": "stream",
     "text": [
      "200\n"
     ]
    }
   ],
   "source": [
    "from requests_html import HTMLSession\n",
    "\n",
    "# 需要访问的服务器URL\n",
    "name = \"猫\"\n",
    "url = f\"https://unsplash.com/s/photos/{name}\"\n",
    "\n",
    "# 启动会话\n",
    "session = HTMLSession()\n",
    "\n",
    "# 向upsplash网站提供的HTTPS服务器发起“GET”请求\n",
    "result = session.get(url)\n",
    "\n",
    "# 得到返回状态码\n",
    "print(result.status_code)\n",
    "# 得到返回的网页源代码\n",
    "# print(result.html.html)"
   ]
  },
  {
   "cell_type": "markdown",
   "metadata": {},
   "source": [
    "### 3.2 使用`requests-html`下载一张图片"
   ]
  },
  {
   "cell_type": "code",
   "execution_count": 5,
   "metadata": {},
   "outputs": [
    {
     "name": "stdout",
     "output_type": "stream",
     "text": [
      "200\n"
     ]
    }
   ],
   "source": [
    "from requests_html import HTMLSession\n",
    "import os\n",
    "\n",
    "# URL\n",
    "url = \"https://unsplash.com/photos/NLzaiXOELFY/download\"\n",
    "\n",
    "# 启动\n",
    "session = HTMLSession()\n",
    "\n",
    "# GET请求\n",
    "result = session.get(url)\n",
    "\n",
    "# 结果\n",
    "print(result.status_code)\n",
    "\n",
    "if not os.path.exists(\"data/ch18\"):\n",
    "    os.makedirs(\"data/ch18\")\n",
    "\n",
    "# 保存图片\n",
    "with open(\"data/ch18/one.jpg\", \"wb\") as f:\n",
    "    # 使用二进制方式获取图片内容\n",
    "    f.write(result.content)"
   ]
  },
  {
   "cell_type": "markdown",
   "metadata": {},
   "source": [
    "### 3.3 批量下载图片\n",
    "\n",
    "**实现思路：**  \n",
    "通过上述请求网页和下载图片的两个功能，组合两个功能函数，找到多张图片之间的`HTML`代码的规律，实现批量下载。"
   ]
  },
  {
   "cell_type": "code",
   "execution_count": 5,
   "metadata": {},
   "outputs": [],
   "source": [
    "# 需要访问的服务器URL\n",
    "name = \"猫\"\n",
    "url = f\"https://unsplash.com/s/photos/{name}\"\n",
    "\n",
    "# 启动会话\n",
    "session = HTMLSession()\n",
    "\n",
    "# 向upsplash网站提供的HTTPS服务器发起“GET”请求\n",
    "result = session.get(url)"
   ]
  },
  {
   "cell_type": "code",
   "execution_count": 17,
   "metadata": {
    "scrolled": true
   },
   "outputs": [],
   "source": [
    "# 使用 Xpath 匹配多张图片的下载地址\n",
    "down_list = result.html.xpath('//figure[@itemprop=\"image\"]//a[@rel=\"nofollow\"]/@href')"
   ]
  },
  {
   "cell_type": "code",
   "execution_count": 12,
   "metadata": {},
   "outputs": [],
   "source": [
    "# 得到图片ID\n",
    "def get_picID_from_url(url):\n",
    "    return url.split('/')[4] + \".jpg\""
   ]
  },
  {
   "cell_type": "code",
   "execution_count": 15,
   "metadata": {},
   "outputs": [],
   "source": [
    "# 下载图片\n",
    "def down_one_pic(url):\n",
    "    result = session.get(url)\n",
    "    filename = get_picID_from_url(url)\n",
    "    with open(\"data/ch18/\" + filename, \"wb\") as f:\n",
    "        f.write(result.content)"
   ]
  },
  {
   "cell_type": "code",
   "execution_count": 16,
   "metadata": {},
   "outputs": [],
   "source": [
    "for one_url in down_list:\n",
    "    down_one_pic(one_url) "
   ]
  },
  {
   "cell_type": "markdown",
   "metadata": {},
   "source": [
    "## 4 http库：如何批量下载在线内容，解放鼠标（下）？"
   ]
  },
  {
   "cell_type": "markdown",
   "metadata": {},
   "source": [
    "### 4.1 selenium的适用场景\n",
    "\n",
    "- 适用场景：解决无法通过工具下载资源、需要通过JavaScript脚本语言才能获得服务器数据\n",
    "- 实现原理：通过`WebDriver`组件，把Python与浏览器连接起来，让Python来控制浏览器的行为，向浏览器发送各种模拟用户操作的指令"
   ]
  },
  {
   "cell_type": "code",
   "execution_count": 4,
   "metadata": {},
   "outputs": [],
   "source": [
    "from selenium import webdriver\n",
    "import time\n",
    "\n",
    "# 浏览器初始化\n",
    "browser =  webdriver.Chrome()\n",
    "\n",
    "# 控制浏览器行为\n",
    "browser.get(\"http://www.jd.com\")\n",
    "\n",
    "# 获取网页的源代码\n",
    "content = browser.page_source\n",
    "time.sleep(10)\n",
    "browser.quit()"
   ]
  },
  {
   "cell_type": "markdown",
   "metadata": {},
   "source": [
    "### 4.2 实现京东自动签到\n",
    "\n",
    "- 原理：通过对浏览器的功能拆解，把浏览器的交互行为，一一对应到“selenium”的非交互命令，之后就能实现自动签到\n",
    "- 实现思路：\n",
    "    1. 打开登录页面\n",
    "    2. 切换到用户密码登录选项卡\n",
    "    3. 点击登录按钮"
   ]
  },
  {
   "cell_type": "markdown",
   "metadata": {},
   "source": [
    "### 4.3 使用“selenium”模拟浏览器，实现自动登录"
   ]
  },
  {
   "cell_type": "code",
   "execution_count": 6,
   "metadata": {},
   "outputs": [],
   "source": [
    "from selenium import webdriver\n",
    "import time\n",
    "\n",
    "browser =  webdriver.Chrome()\n",
    "\n",
    "# 访问主页\n",
    "browser.get(\"http://www.jd.com\")\n",
    "time.sleep(2)\n",
    "\n",
    "# 访问登录页\n",
    "browser.get(\"https://passport.jd.com/new/login.aspx?ReturnUrl=https%3A%2F%2Fwww.jd.com%2F\")\n",
    "time.sleep(2)\n",
    "\n",
    "# 切换为用户密码登录\n",
    "r = browser.find_element_by_xpath(\n",
    "    '//div[@class=\"login-tab login-tab-r\"]')\n",
    "browser.execute_script('arguments[0].click()', r)\n",
    "time.sleep(2)\n",
    "\n",
    "# 发送要输入的用户名和密码\n",
    "browser.find_element_by_xpath(\n",
    "    \"//input[@id='loginname']\").send_keys(\"username\")\n",
    "time.sleep(1)\n",
    "for i in \"password\":\n",
    "    browser.find_element_by_xpath(\n",
    "         \"//input[@id='nloginpwd']\").send_keys(i)\n",
    "    time.sleep(1)\n",
    "\n",
    "# 点击登录按钮\n",
    "browser.find_element_by_xpath(\n",
    "    '//div[@class=\"login-btn\"]/a').click()\n",
    "time.sleep(2)"
   ]
  },
  {
   "cell_type": "markdown",
   "metadata": {},
   "source": [
    "### 4.4 利用“selenium”，实现自动签到"
   ]
  },
  {
   "cell_type": "code",
   "execution_count": 7,
   "metadata": {},
   "outputs": [],
   "source": [
    "# 访问签到页面\n",
    "browser.get(\"https://mall.jd.com/index-1000002826.html\")\n",
    "time.sleep(2)\n",
    "\n",
    "# 签到并领金豆\n",
    "browser.find_element_by_xpath('//div[@class=\"jSign\"]/a').click()\n",
    "time.sleep(10)\n",
    "\n",
    "# 退出浏览器\n",
    "browser.quit()"
   ]
  },
  {
   "cell_type": "markdown",
   "metadata": {},
   "source": [
    "## 5 不同文件混在一起，怎么快速分类？"
   ]
  },
  {
   "cell_type": "markdown",
   "metadata": {},
   "source": [
    "### 5.1 设计合理的数据类型\n",
    "\n",
    "- 分类规则：将扩展名和要移动的目录建立对应关系"
   ]
  },
  {
   "cell_type": "code",
   "execution_count": 8,
   "metadata": {},
   "outputs": [],
   "source": [
    "# 适用字典定义文件类型和它的扩展名\n",
    "file_type = {\n",
    "    \"music\": (\"mp3\", \"wav\"),\n",
    "    \"movie\": (\"mp4\", \"rmvb\", \"rm\", \"avi\"),\n",
    "    \"execute\": (\"exe\", \"bat\")\n",
    "}"
   ]
  },
  {
   "cell_type": "markdown",
   "metadata": {},
   "source": [
    "### 5.2 设计生产者消费者模式"
   ]
  },
  {
   "cell_type": "markdown",
   "metadata": {},
   "source": [
    "- 概念：有两个进程共用一个缓冲区，两个进程分别是生产数据和消费数据的。而缓冲区，用于存放生产进程产生的数据，并让消费进程从缓冲区读取数据进行消费。"
   ]
  },
  {
   "cell_type": "markdown",
   "metadata": {},
   "source": [
    "- 文件分类思路：把读取当前文件名称和路径函数作为生产者，把分类和移动文件的逻辑作为消费者。在生产者消费者中间，使用队列作为它们中间的缓冲区"
   ]
  },
  {
   "cell_type": "markdown",
   "metadata": {},
   "source": [
    "- 好处：\n",
    "    1. 如果生产者比消费者快，可以把多余的生产数据放在缓冲区中，确保生产者可以继续生产数据。\n",
    "    2. 如果生产者比消费者慢，消费者处理完缓冲区中所有数据后，会自动进入到阻塞状态，等待继续处理任务。\n",
    "    3. 缓冲区会被设置为一定的大小，当生产者的速度远远超过消费者，生产者数据填满缓冲区后，生产者也会进入到阻塞状态，直到缓冲区中的数据被消费后，生产者才可以继续写入。而当消费性能不足时，可以等待消费者运行，减少生产者和消费者在进度上相互依赖的情况。"
   ]
  },
  {
   "cell_type": "markdown",
   "metadata": {},
   "source": [
    "### 5.3 分类实现\n",
    "\n",
    "1. 创建分类需要的文件夹\n",
    "2. 遍历目录并写入队列\n",
    "3. 分类并移动到新的文件夹"
   ]
  },
  {
   "cell_type": "code",
   "execution_count": 15,
   "metadata": {},
   "outputs": [],
   "source": [
    "import os\n",
    "\n",
    "# 定义文件类型和它的扩展名\n",
    "file_type = {\n",
    "    \"music\": (\"mp3\", \"wav\"),\n",
    "    \"movie\": (\"mp4\", \"rmvb\", \"rm\", \"avi\"),\n",
    "    \"execute\": (\"exe\", \"bat\")\n",
    "}\n",
    "\n",
    "source_dir = \"data/ch19/files\"\n",
    "\n",
    "# 创建分类需要的文件夹\n",
    "def make_new_dir(dir, type_dir):\n",
    "    for td in type_dir:\n",
    "        new_td = os.path.join(dir, td)\n",
    "        if not os.path.isdir(new_td):\n",
    "            os.makedirs(new_td)\n",
    "\n",
    "# 建立新的文件夹\n",
    "make_new_dir(source_dir, file_type)"
   ]
  },
  {
   "cell_type": "code",
   "execution_count": 16,
   "metadata": {},
   "outputs": [],
   "source": [
    "from queue import Queue\n",
    "\n",
    "# 遍历目录并存入队列\n",
    "def write_to_q(path_to_write, q: Queue):\n",
    "    for full_path, dirs, files in os.walk(path_to_write):\n",
    "        # 如果目录下没有文件，就跳过该目录\n",
    "        if not files:\n",
    "            continue\n",
    "        else:\n",
    "            # 将文件的完整路径和该路径下的文件列表放到缓冲区中\n",
    "            q.put(f\"{full_path}::{files}\")\n",
    "\n",
    "source_dir = \"data/ch19/files\"\n",
    "\n",
    "# 定义一个用于记录扩展名放在指定目录的队列\n",
    "filename_q = Queue()\n",
    "\n",
    "# 遍历目录并存入队列\n",
    "write_to_q(source_dir, filename_q)"
   ]
  },
  {
   "cell_type": "code",
   "execution_count": 17,
   "metadata": {},
   "outputs": [],
   "source": [
    "import shutil\n",
    "\n",
    "# 移动文件到新的目录\n",
    "def move_to_newdir(filename_withext, file_in_path, type_to_newpath):\n",
    "    # 取得文件的扩展名\n",
    "    filename_withext = filename_withext.strip(\" \\'\")\n",
    "    ext = filename_withext.split(\".\")[1]\n",
    "\n",
    "    for new_path in type_to_newpath:\n",
    "        if ext in type_to_newpath[new_path]:\n",
    "            oldfile = os.path.join(file_in_path, filename_withext)\n",
    "            newfile = os.path.join(source_dir, new_path, filename_withext)\n",
    "            shutil.move(oldfile, newfile)\n",
    "\n",
    "# 将队列的文件名分类并写入新的文件夹\n",
    "def classify_from_q(q: Queue, type_to_classify):\n",
    "    while not q.empty():\n",
    "        # 从队列里取目录和文件名\n",
    "        item = q.get()\n",
    "\n",
    "        # 将路径和文件分开\n",
    "        filepath, files = item.split(\"::\")\n",
    "        \n",
    "        # 剔除文件名字符串出现的\"[\" \"]\",并用\"，\"做分隔转换为列表\n",
    "        files = files.strip(\"[]\").split(\",\")\n",
    "        # 对每个文件进行处理\n",
    "        for filename in files:\n",
    "            # 将文件移动到新的目录\n",
    "            move_to_newdir(filename, filepath, type_to_classify)"
   ]
  },
  {
   "cell_type": "code",
   "execution_count": 18,
   "metadata": {},
   "outputs": [],
   "source": [
    "# 将队列的文件名分类并写入新的文件夹 \n",
    "classify_from_q(filename_q, file_type)"
   ]
  },
  {
   "cell_type": "markdown",
   "metadata": {},
   "source": [
    "## 6 SQLite文本数据库：如何进行数据管理（上）？"
   ]
  },
  {
   "cell_type": "markdown",
   "metadata": {},
   "source": [
    "### 6.1 SQLite介绍\n",
    "\n",
    "- 特性：具有大型数据库的稳定、高效、支持 SQL 语言的特性，比大型数据库学习起来更加简单\n",
    "- 优势：\n",
    "    1. 数据查询速度快\n",
    "    2. 存放数据的空间占用少\n",
    "    3. 实现了一般数据库能够支持的（基于SQL语言的）增删改查"
   ]
  },
  {
   "cell_type": "markdown",
   "metadata": {},
   "source": [
    "### 6.2 SQLite 建立数据表的一般流程\n",
    "\n",
    "1. 连接数据库文件\n",
    "2. 创建游标：又称为操作行指针，表示当前选中的行\n",
    "3. 执行SQL语句\n",
    "4. 关闭游标和连接"
   ]
  },
  {
   "cell_type": "code",
   "execution_count": 24,
   "metadata": {},
   "outputs": [],
   "source": [
    "import sqlite3\n",
    "import pathlib\n",
    "import os\n",
    "\n",
    "# 数据库文件的路径和文件名称\n",
    "dst_file = 'data/ch21/contents.db'\n",
    "\n",
    "if not os.path.exists(pathlib.PurePath(dst_file).parent):\n",
    "    os.makedirs(pathlib.PurePath(dst_file).parent)\n",
    "\n",
    "db = pathlib.PurePath(dst_file)\n",
    "\n",
    "# 创建连接\n",
    "conn = sqlite3.connect(db)\n",
    "\n",
    "# 创建游标\n",
    "cur = conn.cursor()"
   ]
  },
  {
   "cell_type": "code",
   "execution_count": 25,
   "metadata": {},
   "outputs": [
    {
     "name": "stdout",
     "output_type": "stream",
     "text": [
      "创建成功\n"
     ]
    }
   ],
   "source": [
    "# 定义要执行的SQL语句\n",
    "sql = '''CREATE TABLE address_book(\n",
    "        id INT PRIMARY KEY NOT NULL,\n",
    "        name TEXT NOT NULL,\n",
    "        phone INT NOT NULL\n",
    "       )'''\n",
    "\n",
    "# 执行SQL\n",
    "try:\n",
    "    cur.execute(sql)\n",
    "    print(\"创建成功\")\n",
    "except Exception as e:\n",
    "    print(\"创建失败\")\n",
    "    print(f\"失败原因是：{e}\")"
   ]
  },
  {
   "cell_type": "markdown",
   "metadata": {},
   "source": [
    "### 6.3 数据的写入\n",
    "\n",
    "示例：为通讯录添加一个联系人`Tom`"
   ]
  },
  {
   "cell_type": "code",
   "execution_count": 26,
   "metadata": {},
   "outputs": [],
   "source": [
    "# 定义要执行的SQL语句\n",
    "sql1 = '''INSERT INTO address_book VALUES (?, ?, ?)'''\n",
    "v = (1, \"Tom\", 12377778888)\n",
    "\n",
    "# 执行SQL\n",
    "try: \n",
    "    cur.execute(sql1, v) \n",
    "    conn.commit()\n",
    "except Exception as e: \n",
    "    print(f\"失败原因是：{e}\")"
   ]
  },
  {
   "cell_type": "markdown",
   "metadata": {},
   "source": [
    "### 6.4 数据的查询"
   ]
  },
  {
   "cell_type": "code",
   "execution_count": 27,
   "metadata": {},
   "outputs": [
    {
     "name": "stdout",
     "output_type": "stream",
     "text": [
      "(12377778888,)\n"
     ]
    }
   ],
   "source": [
    "# 定义要执行的SQL语句\n",
    "sql2 = '''SELECT phone FROM address_book WHERE name = \"Tom\" ''' \n",
    "# 执行SQL\n",
    "try: \n",
    "    result = cur.execute(sql2) \n",
    "    print(result.fetchone())\n",
    "except Exception as e: \n",
    "    print(f\"失败原因是：{e}\")"
   ]
  },
  {
   "cell_type": "code",
   "execution_count": 28,
   "metadata": {},
   "outputs": [],
   "source": [
    "# 关闭游标 \n",
    "cur.close() \n",
    "# 关闭连接 \n",
    "conn.close()"
   ]
  },
  {
   "cell_type": "markdown",
   "metadata": {},
   "source": [
    "## 7 SQLite文本数据库：如何进行数据管理（下）？"
   ]
  },
  {
   "cell_type": "markdown",
   "metadata": {},
   "source": [
    "### 7.1 使用类实现`SQLite`的读写\n",
    "\n",
    "**实现思路：**  \n",
    "使用“类”对 SQLite 的读写 SQL 操作进行封装，并将类进行实例化以后进行调用，得到 SQLite 中的通讯录数据"
   ]
  },
  {
   "cell_type": "code",
   "execution_count": 31,
   "metadata": {},
   "outputs": [],
   "source": [
    "import sqlite3\n",
    "import pathlib\n",
    "\n",
    "class OptSqlite(object):\n",
    "    def __init__(self, dbname = \"new.db\"):\n",
    "        \"\"\"\n",
    "        :param dbname  数据库名称\n",
    "        \"\"\"\n",
    "        self.dir = \"data/ch21\"\n",
    "        self.db = pathlib.PurePath(self.dir, dbname)\n",
    "        self.conn = sqlite3.connect(self.db)\n",
    "        self.cur = self.conn.cursor()\n",
    "\n",
    "    def close(self):\n",
    "        \"\"\"\n",
    "        关闭连接\n",
    "        \"\"\"\n",
    "        self.cur.close()\n",
    "        self.conn.close()\n",
    "\n",
    "    def get_one_phone(self, username):\n",
    "        \"\"\"\n",
    "        获取一个联系人的电话\n",
    "        \"\"\"\n",
    "\n",
    "        self.get_user_phone_sql = f\"\"\"\n",
    "            SELECT phone FROM address_book WHERE name = \"{username}\" \"\"\"\n",
    "        try:\n",
    "            self.result = self.cur.execute(self.get_user_phone_sql)\n",
    "            return self.result.fetchone()\n",
    "        except Exception as e:\n",
    "            print(f\"失败原因是：{e}\")\n",
    "\n",
    "    def set_one_phone(self, name, phone):\n",
    "        \"\"\"\n",
    "        增加一个联系人\n",
    "        \"\"\"\n",
    "        self.set_user_phone_sql = '''INSERT INTO address_book\n",
    "          VALUES (?, ?, ?)'''\n",
    "        self.v =  (2, str(name), int(phone))\n",
    "        try:\n",
    "            self.cur.execute(self.set_user_phone_sql, self.v)\n",
    "            self.conn.commit()\n",
    "        except Exception as e:\n",
    "            print(f\"失败原因是：{e}\")"
   ]
  },
  {
   "cell_type": "code",
   "execution_count": 32,
   "metadata": {},
   "outputs": [
    {
     "name": "stdout",
     "output_type": "stream",
     "text": [
      "(12377778888,)\n",
      "(12344445555,)\n"
     ]
    }
   ],
   "source": [
    "my_query = OptSqlite(\"contents.db\")\n",
    "\n",
    "my_query.set_one_phone(\"Jerry\",\"12344445555\")\n",
    "\n",
    "phone = my_query.get_one_phone(\"Tom\")\n",
    "phone2 = my_query.get_one_phone(\"Jerry\")    \n",
    "\n",
    "my_query.close()\n",
    "\n",
    "print(phone)\n",
    "print(phone2)"
   ]
  },
  {
   "cell_type": "markdown",
   "metadata": {},
   "source": [
    "### 7.2 类和自定义函数的区别\n",
    "\n",
    "1. 对代码的封装方式上不同：编写自定义函数，实现思路是通过函数去描述程序运行的过程；编写基于类的程序，实现思路要针对相同的一类数据，具有的属性和相同的动作\n",
    "2. 语法结构不同：函数是通过`def`关键字定义的，而类是通过`class`关键字定义的\n",
    "3. 调用方式不同：主要表现在各自成员能否被访问和运行方式"
   ]
  },
  {
   "cell_type": "markdown",
   "metadata": {},
   "source": [
    "### 7.3 实现增删改查的类"
   ]
  },
  {
   "cell_type": "code",
   "execution_count": 34,
   "metadata": {},
   "outputs": [],
   "source": [
    "import sqlite3\n",
    "import pathlib\n",
    "\n",
    "class OptSqlite(object):\n",
    "    def __init__(self, dbname = \"new.db\"):\n",
    "        \"\"\"\n",
    "        :param dbname  数据库名称\n",
    "        \"\"\"\n",
    "        self.dir = \"data/ch21\"\n",
    "        self.db = pathlib.PurePath(self.dir, dbname)\n",
    "        self.conn = sqlite3.connect(self.db)\n",
    "        self.cur = self.conn.cursor()\n",
    "\n",
    "    def close(self):\n",
    "        \"\"\"\n",
    "        关闭连接\n",
    "        \"\"\"\n",
    "        self.cur.close()\n",
    "        self.conn.close()\n",
    "\n",
    "    def new_table(self, table_name):\n",
    "        \"\"\"\n",
    "        新建联系人表\n",
    "        \"\"\"\n",
    "        sql = f'''CREATE TABLE {table_name}(\n",
    "            id INTEGER PRIMARY KEY AUTOINCREMENT,\n",
    "            name TEXT NOT NULL,\n",
    "            phone INT NOT NULL\n",
    "            )'''\n",
    "\n",
    "        try:\n",
    "            self.cur.execute(sql)\n",
    "            print(\"创建表成功\")\n",
    "        except Exception as e:\n",
    "            print(\"创建表失败\")\n",
    "            print(f\"失败原因是：{e}\")\n",
    "\n",
    "    def get_one_phone(self, username):\n",
    "        \"\"\"\n",
    "        获取一个联系人的电话\n",
    "        \"\"\"\n",
    "        self.get_user_phone_sql = f\"\"\"\n",
    "            SELECT phone FROM address_book WHERE name = \"{username}\" \"\"\"\n",
    "        try:\n",
    "            self.result = self.cur.execute(self.get_user_phone_sql)\n",
    "            return self.result.fetchone()\n",
    "        except Exception as e:\n",
    "            print(f\"失败原因是：{e}\")\n",
    "\n",
    "    def get_all_contents(self):\n",
    "        \"\"\"\n",
    "        取得所有的联系人\n",
    "        \"\"\"\n",
    "        try:\n",
    "            self.result = self.cur.execute(\"SELECT * FROM address_book\")\n",
    "            return self.result.fetchall()\n",
    "        except Exception as e:\n",
    "            print(f\"失败原因是：{e}\")\n",
    "\n",
    "    def set_one_phone(self, name, phone):\n",
    "        \"\"\"\n",
    "        增加或修改一个联系人的电话\n",
    "        \"\"\"\n",
    "        if self.get_one_phone(name):\n",
    "            self.set_user_phone_sql = '''UPDATE address_book \n",
    "            SET phone= ? WHERE name=?'''\n",
    "            self.v =  (int(phone), str(name))\n",
    "        else:\n",
    "            self.set_user_phone_sql = '''INSERT INTO address_book\n",
    "            VALUES (?, ?, ?)'''\n",
    "            self.v =  (None, str(name), int(phone))\n",
    "        try:\n",
    "            self.cur.execute(self.set_user_phone_sql, self.v)\n",
    "            self.conn.commit()\n",
    "        except Exception as e:\n",
    "            print(f\"失败原因是：{e}\")\n",
    "\n",
    "    def delete_one_content(self, name):\n",
    "        \"\"\"\n",
    "        删除一个联系人的电话\n",
    "        \"\"\"\n",
    "        self.delete_user_sql = f'''DELETE FROM address_book \n",
    "                WHERE name=\"{name}\"'''\n",
    "\n",
    "        try:\n",
    "            self.cur.execute(self.delete_user_sql)\n",
    "            self.conn.commit()\n",
    "        except Exception as e:\n",
    "            print(f\"删除失败原因是：{e}\")"
   ]
  },
  {
   "cell_type": "code",
   "execution_count": 35,
   "metadata": {},
   "outputs": [
    {
     "name": "stdout",
     "output_type": "stream",
     "text": [
      "(12344445556,)\n",
      "[(1, 'Tom', 12377778888), (2, 'Jerry', 12344445556)]\n",
      "[(1, 'Tom', 12377778888)]\n"
     ]
    }
   ],
   "source": [
    "# 实例化\n",
    "my_query = OptSqlite(\"contents.db\")\n",
    "\n",
    "# 创建一张表\n",
    "# my_query.new_table(\"address_book\")\n",
    "\n",
    "# 增加或修改一个联系人的电话\n",
    "my_query.set_one_phone(\"Jerry\",\"12344445556\")\n",
    "\n",
    "# 查询一个联系人的电话\n",
    "phone = my_query.get_one_phone(\"Jerry\")    \n",
    "print(phone)\n",
    "\n",
    "# 查询所有人的电话\n",
    "contents = my_query.get_all_contents()\n",
    "print(contents)\n",
    "\n",
    "# 删除一个联系人\n",
    "my_query.delete_one_content(\"Jerry\")\n",
    "\n",
    "contents = my_query.get_all_contents()\n",
    "print(contents)   \n",
    "\n",
    "# 关闭连接\n",
    "my_query.close()"
   ]
  },
  {
   "cell_type": "markdown",
   "metadata": {},
   "source": [
    "## 8 总结"
   ]
  },
  {
   "cell_type": "markdown",
   "metadata": {},
   "source": [
    "&emsp;&emsp;本篇章主要介绍了文件的批量重命名、通过网络同步文件、实现批量下载在线文件、文件分类、操作`SQLite`数据库进行数据管理；\n",
    "1. 通过`os.rename()`函数，实现文件重命名，并通过遍历文件夹的文件列表，实现文件的批量重命名\n",
    "2. 使用`Flask`库，创建运行程序，并使用`GET`和`POST`请求，完成文件的上传功能\n",
    "3. 利用`requests-html`和`XPath`进行网页内容搜索，实现批量下载图片功能；使用`Webdriver`和`selenium`，结合浏览器模拟，把浏览器的点击链接、用户登录、切换标签等常用功能转换为用Python可以控制的操作\n",
    "4. 通过字典类型设计数据结构，并通过函数设计合理的功能封装，使用生产者消费者模式，实现文件分类功能\n",
    "5. 使用`sqlite3`库，通过连接数据库文件、创建游标、执行SQL语句、关闭游标和连接等步骤，完成对通讯录数据的管理"
   ]
  }
 ],
 "metadata": {
  "kernelspec": {
   "display_name": "Python 3 (ipykernel)",
   "language": "python",
   "name": "python3"
  },
  "language_info": {
   "codemirror_mode": {
    "name": "ipython",
    "version": 3
   },
   "file_extension": ".py",
   "mimetype": "text/x-python",
   "name": "python",
   "nbconvert_exporter": "python",
   "pygments_lexer": "ipython3",
   "version": "3.8.12"
  }
 },
 "nbformat": 4,
 "nbformat_minor": 1
}
