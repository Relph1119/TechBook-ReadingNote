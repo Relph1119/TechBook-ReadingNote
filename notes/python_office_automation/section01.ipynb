{
 "cells": [
  {
   "cell_type": "markdown",
   "id": "31b82c0c",
   "metadata": {},
   "source": [
    "# Section01 “输入”模块：不同文件类型的批量合并和拆分问题"
   ]
  },
  {
   "cell_type": "markdown",
   "id": "6a02700d",
   "metadata": {},
   "source": [
    "## 1 拆分与合并：快速地批量处理内容相似的Excel"
   ]
  },
  {
   "cell_type": "markdown",
   "id": "66f948ca",
   "metadata": {},
   "source": [
    "### 1.1 Excel扩展库\n",
    "\n",
    "- 支持Excel读取扩展库：`xlrd`库\n",
    "- 支持Excel写入扩展库：`xlwt`库"
   ]
  },
  {
   "cell_type": "markdown",
   "id": "f2e5ba27",
   "metadata": {},
   "source": [
    "### 1.2 Excel合并"
   ]
  },
  {
   "cell_type": "markdown",
   "id": "92d99db7",
   "metadata": {},
   "source": [
    "- 自动化办公流程：\n",
    "  1. 找到整个工作过程当中重复操作的部分\n",
    "  2. 将重复操作的部分中，使用Python编写程序代替手工操作部分\n",
    "  3. 对重复的部分，使用循环语句进行批量处理"
   ]
  },
  {
   "cell_type": "markdown",
   "id": "68ec7c18",
   "metadata": {},
   "source": [
    "- 文件合并的重复操作事件：\n",
    "    1. 打开文件\n",
    "    2. 提取用户填写内容\n",
    "    3. 粘贴到汇总文件\n",
    "    4. 关闭文件"
   ]
  },
  {
   "cell_type": "markdown",
   "id": "5386099a",
   "metadata": {},
   "source": [
    "**示例：**  \n",
    "\n",
    "&emsp;&emsp;将员工的调查问卷进行合并，统计每个员工的每个问题的答案，合并文件的表头是员工姓名、第一题、第二题....."
   ]
  },
  {
   "cell_type": "code",
   "execution_count": 1,
   "id": "3f99f84d",
   "metadata": {},
   "outputs": [],
   "source": [
    "import xlrd\n",
    "import xlwt\n",
    "from pathlib import Path, PurePath\n",
    "import os"
   ]
  },
  {
   "cell_type": "code",
   "execution_count": 2,
   "id": "401f6134",
   "metadata": {},
   "outputs": [],
   "source": [
    "# 要合并excel文件的路径\n",
    "src_path = 'data/ch01/调查问卷'\n",
    "# 合并完成之后的文件路径\n",
    "dst_file = 'data/ch01/result/结果.xls'\n",
    "\n",
    "if not os.path.exists(PurePath(dst_file).parent):\n",
    "    os.makedirs(PurePath(dst_file).parent)\n",
    "\n",
    "# 获取该目录下所有的xlsx格式文件\n",
    "p = Path(src_path)\n",
    "files = [x for x in p.iterdir() if PurePath(x).match('*.xls')]\n",
    "\n",
    "content = []"
   ]
  },
  {
   "cell_type": "code",
   "execution_count": 3,
   "id": "7369bbad",
   "metadata": {},
   "outputs": [
    {
     "name": "stdout",
     "output_type": "stream",
     "text": [
      "李雷,D,C\n",
      "调查问卷模版,D,C\n",
      "韩梅梅,D,B\n"
     ]
    }
   ],
   "source": [
    "# 对每个文件进行重复处理\n",
    "for file in files:\n",
    "    # 用文件名作为每个用户的标识\n",
    "    username = file.name.split('.')[0]\n",
    "    data = xlrd.open_workbook(file)\n",
    "    table = data.sheets()[0]\n",
    "    # 取得每一项的结果\n",
    "    answer1 = table.cell_value(rowx=4, colx=4)\n",
    "    answer2 = table.cell_value(rowx=10, colx=4)\n",
    "    temp = f'{username},{answer1},{answer2}'\n",
    "    # 合并为一行进行存储\n",
    "    content.append(temp.split(','))\n",
    "    print(temp)"
   ]
  },
  {
   "cell_type": "code",
   "execution_count": 4,
   "id": "fdd1f21a",
   "metadata": {},
   "outputs": [],
   "source": [
    "# 写入文件的表头\n",
    "table_header = ['员工姓名', '第一题', '第二题']\n",
    "\n",
    "workbook = xlwt.Workbook(encoding='utf-8')\n",
    "xlsheet = workbook.add_sheet('统计结果')\n",
    "\n",
    "row = 0\n",
    "col = 0\n",
    "for cell_header in table_header:\n",
    "    xlsheet.write(row, col, cell_header)\n",
    "    col += 1\n",
    "\n",
    "# 下移一行\n",
    "row += 1\n",
    "# 取出每一行内容\n",
    "for line in content:\n",
    "    col = 0\n",
    "    # 取出每一个单元格内容\n",
    "    for cell in line:\n",
    "        # 写入内容\n",
    "        xlsheet.write(row, col, cell)\n",
    "        # 向右移动一个单元格\n",
    "        col += 1\n",
    "    row += 1\n",
    "\n",
    "# 保存文件\n",
    "workbook.save(dst_file)"
   ]
  },
  {
   "cell_type": "markdown",
   "id": "def63ceb",
   "metadata": {},
   "source": [
    "### 1.3 Excel拆分"
   ]
  },
  {
   "cell_type": "markdown",
   "id": "6b441888",
   "metadata": {},
   "source": [
    "**示例：**  \n",
    "\n",
    "&emsp;&emsp;将员工的总工资单进行拆分，以每个员工名字命名Excel文件，并且表头为工资单的表头，即员工编号、姓名、出勤、工资、奖金、职务工资、全勤奖、实发工资。"
   ]
  },
  {
   "cell_type": "code",
   "execution_count": 5,
   "id": "3a893d14",
   "metadata": {},
   "outputs": [],
   "source": [
    "# 工资单文件\n",
    "salary_file = 'data/ch01/工资单/工资单.xls'\n",
    "\n",
    "# 拆分文件保存路径\n",
    "dst_path = 'data/ch01/工资单'"
   ]
  },
  {
   "cell_type": "code",
   "execution_count": 6,
   "id": "38407a43",
   "metadata": {},
   "outputs": [],
   "source": [
    "data = xlrd.open_workbook(salary_file)\n",
    "table = data.sheets()[0]\n",
    "# 获取表头\n",
    "salary_header = table.row_values(rowx = 0, start_colx=0, end_colx=None)"
   ]
  },
  {
   "cell_type": "code",
   "execution_count": 7,
   "id": "22f04c7f",
   "metadata": {},
   "outputs": [],
   "source": [
    "# 写入文件\n",
    "def write_to_file(file_name, count):\n",
    "    workbook = xlwt.Workbook(encoding='utf-8')\n",
    "    xlsheet = workbook.add_sheet('本月工资')\n",
    "    \n",
    "    row = 0\n",
    "    for line in count:\n",
    "        col = 0\n",
    "        for cell in line:\n",
    "            xlsheet.write(row, col, cell)\n",
    "            col += 1\n",
    "        row += 1\n",
    "        \n",
    "    workbook.save(PurePath(salary_file).with_name(file_name).with_suffix('.xls'))"
   ]
  },
  {
   "cell_type": "code",
   "execution_count": 8,
   "id": "0e225acc",
   "metadata": {},
   "outputs": [],
   "source": [
    "# 获取员工数量\n",
    "employee_number = table.nrows\n",
    "# 获取每一行，并用第二个单元格（即员工姓名）作为新的文件名\n",
    "for line in range(1, employee_number):\n",
    "    content = table.row_values(rowx=line, start_colx=0, end_colx=None)\n",
    "    # 将表头和员工工资信息重新组成一个新的文件\n",
    "    new_content = []\n",
    "    new_content.append(salary_header)\n",
    "    new_content.append(content)\n",
    "    write_to_file(file_name=content[1], count=new_content)"
   ]
  },
  {
   "cell_type": "markdown",
   "id": "c207549b",
   "metadata": {},
   "source": [
    "## 2 善用Python扩展库：批量合并多个文档"
   ]
  },
  {
   "cell_type": "markdown",
   "id": "9b8adbd6",
   "metadata": {},
   "source": [
    "### 2.1 Word扩展库\n",
    "\n",
    "- Word处理：python-docx库，专门用来编辑Word文档\n",
    "- 优点：可以像操作`.txt`文本一样直接打开、修改和保存关闭文件"
   ]
  },
  {
   "cell_type": "markdown",
   "id": "f7cc03da",
   "metadata": {},
   "source": [
    "### 2.2 Word合并\n",
    "\n",
    "**示例**  \n",
    "&emsp;&emsp;将两个Word文档（绩效考核管理制度1、绩效考核管理制度2）进行合并"
   ]
  },
  {
   "cell_type": "code",
   "execution_count": 9,
   "id": "04c5dff2",
   "metadata": {},
   "outputs": [],
   "source": [
    "from docx import Document"
   ]
  },
  {
   "cell_type": "code",
   "execution_count": 10,
   "id": "a4b3047e",
   "metadata": {},
   "outputs": [],
   "source": [
    "# word文件所在路径\n",
    "word_files_path = 'data/ch02/word样例文件'\n",
    "\n",
    "# 获取该目录下所有的docx格式文件\n",
    "p = Path(word_files_path)\n",
    "files = [x for x in p.iterdir() if PurePath(x).match('*.docx')]"
   ]
  },
  {
   "cell_type": "code",
   "execution_count": 11,
   "id": "9483d5ea",
   "metadata": {},
   "outputs": [],
   "source": [
    "# 实例化文档对象\n",
    "doc = Document()"
   ]
  },
  {
   "cell_type": "code",
   "execution_count": 12,
   "id": "f1dbc85e",
   "metadata": {},
   "outputs": [],
   "source": [
    "# 保留文件原有格式的合并\n",
    "def merge_files(docx_files: list):\n",
    "    # 循环处理每个文件\n",
    "    for file in sorted(docx_files):\n",
    "        temp_doc = Document(file)\n",
    "        # 遍历每一页\n",
    "        for word_body in temp_doc.element.body:\n",
    "            # 合并内容到新的word文档中\n",
    "            doc.element.body.append(word_body)\n",
    "\n",
    "    doc.save(Path(word_files_path, '绩效考核管理制度.docx'))"
   ]
  },
  {
   "cell_type": "code",
   "execution_count": 13,
   "id": "f969a982",
   "metadata": {},
   "outputs": [],
   "source": [
    "merge_files(files)"
   ]
  },
  {
   "cell_type": "markdown",
   "id": "4ec29aa9",
   "metadata": {},
   "source": [
    "### 2.3 将纯文本和Word文件合并"
   ]
  },
  {
   "cell_type": "markdown",
   "id": "7c4f0d59",
   "metadata": {},
   "source": [
    "**注意：**  \n",
    "&emsp;&emsp;Word 文件支持的格式丰富程度远远高于 Txt 文件，所以当这两种格式丰富程度不一致的文件进行合并时，要么向下兼容，去掉 Txt 不支持的格式；要么向上兼容，对 Txt 进行格式再调整。"
   ]
  },
  {
   "cell_type": "code",
   "execution_count": 14,
   "id": "0f1f6144",
   "metadata": {},
   "outputs": [],
   "source": [
    "def add_content_mode1(content):\n",
    "    '''\n",
    "    增加内容\n",
    "    '''\n",
    "    para = doc.add_paragraph().add_run(content)\n",
    "    # 设置字体格式\n",
    "    para.font.name = '仿宋'\n",
    "    # 设置下划线\n",
    "    para.font.underline = True\n",
    "    # 设置颜色\n",
    "    para.font.color.rgb = RGBColor(255,128,128)  "
   ]
  },
  {
   "cell_type": "markdown",
   "id": "d24acbff",
   "metadata": {},
   "source": [
    "### 2.4 将Excel和Word文件合并"
   ]
  },
  {
   "cell_type": "markdown",
   "id": "9dfc3d83",
   "metadata": {},
   "source": [
    "**示例：**  \n",
    "&emsp;&emsp;有一个邀请函的标准公文格式的Word文档，其中的被邀请人、性别（先生、女士）以及发出邀请的时间，分别用“< 姓名 >”“< 性别 >”“< 时间 >”替代。另一个Excel文件中，已有被邀请人的姓名、性别信息。将以上两个文件合并，为每个被邀请人自动生成一个Word格式的邀请函。"
   ]
  },
  {
   "cell_type": "code",
   "execution_count": 15,
   "id": "ba327966",
   "metadata": {},
   "outputs": [],
   "source": [
    "import xlrd\n",
    "from docx import Document\n",
    "from pathlib import Path, PurePath\n",
    "import datetime\n",
    "import os"
   ]
  },
  {
   "cell_type": "code",
   "execution_count": 16,
   "id": "419ccb35",
   "metadata": {},
   "outputs": [],
   "source": [
    "today = datetime.date.today().strftime('%Y-%m-%d')\n",
    "\n",
    "# 客户信息文件\n",
    "customer = 'data/ch02/邀请函样例文件/客户信息.xls'\n",
    "\n",
    "# 邀请函模版\n",
    "invitation = 'data/ch02/邀请函样例文件/邀请函模版.docx'\n",
    "\n",
    "# 邀请函路径\n",
    "invitation_path = 'data/ch02/邀请函文件'\n",
    "\n",
    "if not os.path.exists(invitation_path):\n",
    "    os.makedirs(invitation_path)\n",
    "\n",
    "# 替换内容\n",
    "replace_content = {\n",
    "    '<姓名>' : 'no_name',\n",
    "    '<性别>' : 'm_f',\n",
    "    '<今天日期>' : today\n",
    "}"
   ]
  },
  {
   "cell_type": "code",
   "execution_count": 17,
   "id": "2ea520f5",
   "metadata": {},
   "outputs": [],
   "source": [
    "# 生成邀请函文件\n",
    "def generate_invitation():\n",
    "    doc = Document(invitation)\n",
    "    # 取出每一段\n",
    "    for para in doc.paragraphs:\n",
    "        for key, value in replace_content.items():\n",
    "            if key in para.text:\n",
    "                para.text = para.text.replace(key, value)\n",
    "                \n",
    "    file_name = PurePath(invitation_path, replace_content['<姓名>']).with_suffix('.docx')\n",
    "    doc.save(file_name) "
   ]
  },
  {
   "cell_type": "code",
   "execution_count": 18,
   "id": "093a67a1",
   "metadata": {},
   "outputs": [],
   "source": [
    "# 获取邀请函信息\n",
    "def get_customer(customer_file: Path):\n",
    "    # 从第一个sheet中获取客户信息\n",
    "    data = xlrd.open_workbook(customer_file)\n",
    "    table = data.sheets()[0]\n",
    "    \n",
    "    # 获取客户数量\n",
    "    customer_number = table.nrows\n",
    "    \n",
    "    for line in range(1, customer_number):\n",
    "        content = table.row_values(rowx = line, start_colx = 0, end_colx = None)\n",
    "        replace_content['<姓名>'] = content[0]\n",
    "        replace_content['<性别>'] = content[1]\n",
    "        generate_invitation()"
   ]
  },
  {
   "cell_type": "code",
   "execution_count": 19,
   "id": "2514e227",
   "metadata": {},
   "outputs": [],
   "source": [
    "get_customer(customer)"
   ]
  },
  {
   "cell_type": "markdown",
   "id": "ee8d6575",
   "metadata": {},
   "source": [
    "## 3 图片转文字：提高识别准确率"
   ]
  },
  {
   "cell_type": "markdown",
   "id": "d4f00ad2",
   "metadata": {},
   "source": [
    "### 3.1 图片转文字的识别方式\n",
    "\n",
    "- 在线识别方式：在初次进行文字识别的时候，准确率非常高；识别文字的过程需要在公有云的服务器上完成，并且信息泄露的风险比较大\n",
    "- 离线识别方式：在识别过程中不需要连接网络，节省了在线传输图片的时间，适合那些对实时性要求比较高或网络信号比较差的场景"
   ]
  },
  {
   "cell_type": "markdown",
   "id": "a59e1f9f",
   "metadata": {},
   "source": [
    "|     | 初次识别准确率 | 安全性 | 是否需要人工训练模型 | 实时性 |\n",
    "| :- | :-: | :-: | :-: | :-: |\n",
    "| 在线识别 | 高 | 一般 | 不需要 | 一般 |\n",
    "| 离线识别 | 一般 | 高 | 需要 | 高 |"
   ]
  },
  {
   "cell_type": "markdown",
   "id": "e8dd5211",
   "metadata": {},
   "source": [
    "### 3.2 在线识别\n",
    "\n",
    "- 百度Ai在线文字识别：使用baidu-api包，提供AipOcr函数实现用户验证、client.basicGeneral函数实现文字识别功能\n",
    "- 使用步骤：\n",
    "  1. 安装SDK\n",
    "  2. 注册用户\n",
    "  3. 申请应用"
   ]
  },
  {
   "cell_type": "markdown",
   "id": "8d33b4cd",
   "metadata": {},
   "source": [
    "### 3.3 离线识别import"
   ]
  },
  {
   "cell_type": "code",
   "execution_count": 20,
   "id": "c5681984",
   "metadata": {},
   "outputs": [],
   "source": [
    "import pytesseract\n",
    "from PIL import Image"
   ]
  },
  {
   "cell_type": "code",
   "execution_count": 21,
   "id": "b436f98f",
   "metadata": {},
   "outputs": [],
   "source": [
    "pytesseract.pytesseract.tesseract_cmd = r\"D:/Tesseract-OCR/tesseract.exe\""
   ]
  },
  {
   "cell_type": "code",
   "execution_count": 22,
   "id": "37a8076a",
   "metadata": {},
   "outputs": [],
   "source": [
    "# 打开图片\n",
    "image = Image.open('data/ch03/example.png')\n",
    "\n",
    "# 转为灰度图片\n",
    "imgry = image.convert('L')"
   ]
  },
  {
   "cell_type": "code",
   "execution_count": 23,
   "id": "4f4ce009",
   "metadata": {},
   "outputs": [
    {
     "name": "stdout",
     "output_type": "stream",
     "text": [
      "枪 a 发 咤\n",
      "心 RR 闹 发 索 ac\n",
      "er 0000000000 oe No 0123456789 。\n",
      "aes aa soos\n",
      "E 奂 怀 扬 55 ,\n",
      "ae fe BU US ann ath cn 一 < 1 2018400 川 0011\n",
      "白 % 一 标 ALMEIDA So ORI AFIPS 21 FAHNSKTD 2/09\n",
      "吴 硕 林人 技 吊 孔 ; 0000000000on00 万 137+ocg>esogggdggy72172“7-\n",
      "* Babe We 东 N 华n03 0000-0006600 团 31533333\n",
      "於 江 文 胡 芒 佳 如 ooooooesoooooso {9G B8OFA 70192 2 3062261006289\n",
      "洁 汀 李 RRR aS wa ake 国 E 0 绍 东\n",
      "国 医 I Aooaog 《 0 coooo 060.00 0 aon\n",
      "a yooo.00 a voo0\n",
      "中 kph 技 eves\n",
      ", “ 2 根 根 椿 有 匹 。\n",
      "yO YOO IRL Aad ‘a *an\n",
      "切 ARLASOSF: 000000000000000 nn\n",
      "东 EE OR EE MM LOR OS MR 000ocooooo0 REEMH\n",
      "兰 AR Sp ALM AULA T AUR kh GunGK:00D0000 PN\n",
      "FOAL TRG Lie mA 仪 WEE\n",
      "\n"
     ]
    }
   ],
   "source": [
    "# 二值化，采用阈值分割算法，threshold为分割点，根据图片质量调节\n",
    "threshold = 150\n",
    "table = []\n",
    "for j in range(256):\n",
    "    if j < threshold:\n",
    "        table.append(0)\n",
    "    else:\n",
    "        table.append(1)\n",
    "\n",
    "temp = imgry.point(table, '1')\n",
    "\n",
    "# OCR识别：lang指定中文,--psm 6 表示按行识别，有助于提升识别准确率\n",
    "text = pytesseract.image_to_string(temp, lang=\"chi_sim+eng\", config='--psm 6')\n",
    "\n",
    "# 打印识别后的文本\n",
    "print(text)"
   ]
  },
  {
   "cell_type": "markdown",
   "id": "c1150db9",
   "metadata": {},
   "source": [
    "### 3.4 对图像进行文字识别处理\n",
    "\n",
    "- 对图像进行文字识别的一般过程：\n",
    "    1. 图像输入\n",
    "    2. 前期处理，比如二值化，图像降噪，倾斜纠正\n",
    "    3. 文字检测，比如版面分析，字符分割\n",
    "    4. 文本识别，比如字符识别，后期矫正\n",
    "    5. 输出文本。"
   ]
  },
  {
   "cell_type": "markdown",
   "id": "9c3e26be",
   "metadata": {},
   "source": [
    "- 文字识别精确过程：\n",
    "    1. 人工观察\n",
    "    2. 对比原始图像\n",
    "    3. 把错误的文字手工纠正为正确的汉字"
   ]
  },
  {
   "cell_type": "markdown",
   "id": "0af8c541",
   "metadata": {},
   "source": [
    "## 4 总结"
   ]
  },
  {
   "cell_type": "markdown",
   "id": "4e60e9b7",
   "metadata": {},
   "source": [
    "&emsp;&emsp;本篇章主要介绍了Excel合并与拆分、Word文件的合并、不同文件之间的合并处理、图片的文字识别；批量合并与拆分主要是将操作重复的部分用Python实现自动化操作，再通过脚本实现批量操作。通过使用`xlrd`、`xlwt`、`python-docx`、`pytesseract`等扩展库，对各类文档进行自动化处理，达到批量合并与拆分的目的。"
   ]
  }
 ],
 "metadata": {
  "kernelspec": {
   "display_name": "Python 3 (ipykernel)",
   "language": "python",
   "name": "python3"
  },
  "language_info": {
   "codemirror_mode": {
    "name": "ipython",
    "version": 3
   },
   "file_extension": ".py",
   "mimetype": "text/x-python",
   "name": "python",
   "nbconvert_exporter": "python",
   "pygments_lexer": "ipython3",
   "version": "3.8.12"
  }
 },
 "nbformat": 4,
 "nbformat_minor": 5
}
